{
 "cells": [
  {
   "cell_type": "markdown",
   "id": "2d5773c0-d7b8-457a-a36e-ed4804b88feb",
   "metadata": {},
   "source": [
    "# Uniaxial Tension - Elasticity, Physics Informed Neural Network"
   ]
  },
  {
   "cell_type": "markdown",
   "id": "0ebede27-2773-4e09-8f97-0c8084b14a9f",
   "metadata": {},
   "source": [
    "Thomas Allard and Samantha Walker"
   ]
  },
  {
   "cell_type": "code",
   "execution_count": null,
   "id": "726d12f8-fb12-433d-acc9-f1413998134e",
   "metadata": {},
   "outputs": [],
   "source": []
  }
 ],
 "metadata": {
  "kernelspec": {
   "display_name": "Python 3 (ipykernel)",
   "language": "python",
   "name": "python3"
  },
  "language_info": {
   "codemirror_mode": {
    "name": "ipython",
    "version": 3
   },
   "file_extension": ".py",
   "mimetype": "text/x-python",
   "name": "python",
   "nbconvert_exporter": "python",
   "pygments_lexer": "ipython3",
   "version": "3.8.12"
  }
 },
 "nbformat": 4,
 "nbformat_minor": 5
}
