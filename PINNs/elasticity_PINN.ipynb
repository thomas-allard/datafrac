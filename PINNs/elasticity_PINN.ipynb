{
 "cells": [
  {
   "cell_type": "markdown",
   "id": "2d5773c0-d7b8-457a-a36e-ed4804b88feb",
   "metadata": {},
   "source": [
    "# Uniaxial Tension - Elasticity, Physics Informed Neural Network"
   ]
  },
  {
   "cell_type": "markdown",
   "id": "0ebede27-2773-4e09-8f97-0c8084b14a9f",
   "metadata": {},
   "source": [
    "Thomas Allard and Samantha Walker"
   ]
  },
  {
   "cell_type": "code",
   "execution_count": 40,
   "id": "7ca17acf-24c5-4365-ab69-4697d2605dd6",
   "metadata": {},
   "outputs": [],
   "source": [
    "#Imports\n",
    "import numpy as np \n",
    "import sciann as sn \n",
    "import matplotlib.pyplot as plt\n",
    "import scipy.io\n",
    "import netCDF4\n",
    "import xarray as xr\n",
    "\n",
    "import os"
   ]
  },
  {
   "cell_type": "code",
   "execution_count": 41,
   "id": "d31acdf6-be83-4ec6-9fae-4bff56416d89",
   "metadata": {},
   "outputs": [],
   "source": [
    "# Specify parameters and things\n",
    "mode = 'train'   # 'test' to load PINN weights from previously trained model\n",
    "                # 'train' to train a new model\n",
    "\n",
    "#trained_file = 'trained-navier-stokes.hdf5'\n",
    "data_file = '../abaqus/final_elastic/elastic_cdf.nc'"
   ]
  },
  {
   "cell_type": "code",
   "execution_count": 42,
   "id": "517fccba-5691-4001-ab60-37ec4a841eaf",
   "metadata": {},
   "outputs": [],
   "source": [
    "# load in data_file as xarray DataSet\n",
    "set = xr.open_dataset(data_file)"
   ]
  },
  {
   "cell_type": "code",
   "execution_count": 58,
   "id": "0825236c-2706-494b-922e-94b940938686",
   "metadata": {},
   "outputs": [],
   "source": [
    "# Load in displacements and create an ndarray\n",
    "disp_x=set.sel(field='ux').to_array()\n",
    "disp_y=set.sel(field='uy').to_array()\n",
    "disps=np.dstack([disp_x,disp_y])"
   ]
  },
  {
   "cell_type": "code",
   "execution_count": 67,
   "id": "96316ce2-5d29-4e14-8849-49404baf99f4",
   "metadata": {},
   "outputs": [
    {
     "data": {
      "text/plain": [
       "array([[    0.       , -1500.       ],\n",
       "       [   66.6666641, -1500.       ],\n",
       "       [  133.333328 , -1500.       ],\n",
       "       ...,\n",
       "       [ 2866.66675  ,  1500.       ],\n",
       "       [ 2933.33325  ,  1500.       ],\n",
       "       [ 3000.       ,  1500.       ]])"
      ]
     },
     "execution_count": 67,
     "metadata": {},
     "output_type": "execute_result"
    }
   ],
   "source": [
    "# Load in grid\n",
    "def file2array(file):\n",
    "    # load in each line of data as array\n",
    "    with open(file, 'r') as f:\n",
    "        line_string = f.read().splitlines()\n",
    "    \n",
    "    # loop through the lines from the file, split, and append to list\n",
    "    list = []\n",
    "    timestamp = 0 # default \n",
    "    for i, line in enumerate(line_string):\n",
    "        list.append(line.split())\n",
    "\n",
    "    # convert list to an array of type float64\n",
    "    array = np.asarray(list, dtype=np.float64)\n",
    "\n",
    "    return(array)\n",
    "node_file = '../abaqus/final_elastic/nodes.txt'\n",
    "nodal_coordinates = file2array(node_file)\n",
    "grid = nodal_coordinates[:,1:3]"
   ]
  },
  {
   "cell_type": "code",
   "execution_count": 44,
   "id": "68a3e0cb-0c57-4fb2-b7fd-89dcd676eb96",
   "metadata": {},
   "outputs": [],
   "source": [
    "# Extract time and put in an array\n",
    "time = []\n",
    "for DataArray in set.values():\n",
    "    time.append(DataArray.attrs['time'])"
   ]
  },
  {
   "cell_type": "code",
   "execution_count": 57,
   "id": "6be5b395-14cd-47ff-8c16-adba2d1b2eee",
   "metadata": {},
   "outputs": [
    {
     "data": {
      "image/png": "[encoded data removed]",
      "text/plain": [
       "<Figure size 432x288 with 1 Axes>"
      ]
     },
     "metadata": {
      "needs_background": "light"
     },
     "output_type": "display_data"
    }
   ],
   "source": [
    "# Check that data loaded in correctly by plotting disp_y for node 1 (bottom left) and node 2715 (top left)\n",
    "plt.plot(time,set.sel(field='uy',node='1').to_array(),   color='red',label='node_1')\n",
    "plt.plot(time,set.sel(field='uy',node='2715').to_array(),color='blue',label='node_2715')\n",
    "plt.xlabel('time (s)')\n",
    "plt.ylabel('displacement (mm)')\n",
    "plt.legend()\n",
    "plt.show()"
   ]
  },
  {
   "cell_type": "code",
   "execution_count": null,
   "id": "31e551c8-395b-4454-b213-40fdd306cbcc",
   "metadata": {},
   "outputs": [],
   "source": [
    "# define function for subsampling data\n",
    "def PrepareData(data, grid, num_data, data_file, random=True):\n",
    "    \n",
    "    # Load data\n",
    "    #data = scipy.io.loadmat('/content/' + data_file)\n",
    "    #data = scipy.io.loadmat(data_file)\n",
    "    \n",
    "    # will want to change these to correspond to our input variables\n",
    "    #U_star = data['U_star'] # N x 2 x T\n",
    "    ## displacements -> U_\n",
    "    disp_x=set.sel(field='ux').to_array()\n",
    "    disp_y=set.sel(field='uy').to_array()\n",
    "    U_star=np.dstack([disp_x,disp_y])\n",
    "    \n",
    "    \n",
    "    P_star = data['p_star'] # N x T\n",
    "    t_star = data['t'] # T x 1\n",
    "    X_star = grid\n",
    "    \n",
    "    N = X_star.shape[0]\n",
    "    T = t_star.shape[0]\n",
    "    \n",
    "    # Rearrange Data \n",
    "    XX = np.tile(X_star[:,0:1], (1,T)) # N x T\n",
    "    YY = np.tile(X_star[:,1:2], (1,T)) # N x T\n",
    "    TT = np.tile(t_star, (1,N)).T # N x T\n",
    "    \n",
    "    UU = U_star[:,0,:] # N x T\n",
    "    VV = U_star[:,1,:] # N x T\n",
    "    PP = P_star # N x T\n",
    "    \n",
    "    # Pick random data.\n",
    "    if random:\n",
    "        idx = np.random.choice(N*T, num_data, replace=False)\n",
    "    else:\n",
    "        idx = np.arange(0, N*T)\n",
    "    \n",
    "    x = XX.flatten()[idx,None] # NT x 1\n",
    "    y = YY.flatten()[idx,None] # NT x 1\n",
    "    t = TT.flatten()[idx,None] # NT x 1\n",
    "    \n",
    "    u = UU.flatten()[idx,None] # NT x 1\n",
    "    v = VV.flatten()[idx,None] # NT x 1\n",
    "    p = PP.flatten()[idx,None] # NT x 1\n",
    " \n",
    "    return (x,y,t,u,v,p)\n"
   ]
  }
 ],
 "metadata": {
  "kernelspec": {
   "display_name": "Python 3 (ipykernel)",
   "language": "python",
   "name": "python3"
  },
  "language_info": {
   "codemirror_mode": {
    "name": "ipython",
    "version": 3
   },
   "file_extension": ".py",
   "mimetype": "text/x-python",
   "name": "python",
   "nbconvert_exporter": "python",
   "pygments_lexer": "ipython3",
   "version": "3.8.12"
  }
 },
 "nbformat": 4,
 "nbformat_minor": 5
}
