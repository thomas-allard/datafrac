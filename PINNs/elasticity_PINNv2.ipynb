{
 "cells": [
  {
   "cell_type": "markdown",
   "id": "2d5773c0-d7b8-457a-a36e-ed4804b88feb",
   "metadata": {},
   "source": [
    "# Uniaxial Tension - Elasticity, Physics Informed Neural Network"
   ]
  },
  {
   "cell_type": "markdown",
   "id": "0ebede27-2773-4e09-8f97-0c8084b14a9f",
   "metadata": {},
   "source": [
    "Thomas Allard and Samantha Walker"
   ]
  },
  {
   "cell_type": "code",
   "execution_count": 38,
   "id": "7ca17acf-24c5-4365-ab69-4697d2605dd6",
   "metadata": {},
   "outputs": [],
   "source": [
    "#Imports\n",
    "import numpy as np \n",
    "import sciann as sn \n",
    "import matplotlib.pyplot as plt\n",
    "import scipy.io\n",
    "import netCDF4\n",
    "import xarray as xr\n",
    "\n",
    "import os"
   ]
  },
  {
   "cell_type": "code",
   "execution_count": 39,
   "id": "d31acdf6-be83-4ec6-9fae-4bff56416d89",
   "metadata": {},
   "outputs": [],
   "source": [
    "# Specify parameters and things\n",
    "mode = 'train'   # 'test' to load PINN weights from previously trained model\n",
    "                # 'train' to train a new model\n",
    "\n",
    "#trained_file = 'trained-navier-stokes.hdf5'\n",
    "data_file = '../abaqus/final_elastic/elastic_cdf.nc'"
   ]
  },
  {
   "cell_type": "code",
   "execution_count": 40,
   "id": "517fccba-5691-4001-ab60-37ec4a841eaf",
   "metadata": {},
   "outputs": [],
   "source": [
    "# load in data_file as xarray DataSet\n",
    "set = xr.open_dataset(data_file)"
   ]
  },
  {
   "cell_type": "code",
   "execution_count": 136,
   "id": "0825236c-2706-494b-922e-94b940938686",
   "metadata": {},
   "outputs": [
    {
     "name": "stdout",
     "output_type": "stream",
     "text": [
      "(81, 2760, 2)\n"
     ]
    }
   ],
   "source": [
    "# Load in displacements and create an ndarray\n",
    "disp_x=set.sel(field='ux').to_array()\n",
    "disp_y=set.sel(field='uy').to_array()\n",
    "disps=np.dstack([disp_x,disp_y])\n",
    "print(np.shape(disps))\n",
    "# Num = np.shape(disps)[1] # 2760\n",
    "# Var_Num = np.shape(disps)[2] # 2"
   ]
  },
  {
   "cell_type": "code",
   "execution_count": 54,
   "id": "96316ce2-5d29-4e14-8849-49404baf99f4",
   "metadata": {},
   "outputs": [
    {
     "name": "stdout",
     "output_type": "stream",
     "text": [
      "[[    0.        -1500.       ]\n",
      " [   66.6666641 -1500.       ]\n",
      " [  133.333328  -1500.       ]\n",
      " ...\n",
      " [ 2866.66675    1500.       ]\n",
      " [ 2933.33325    1500.       ]\n",
      " [ 3000.         1500.       ]]\n",
      "(2760, 2)\n"
     ]
    }
   ],
   "source": [
    "# Load in grid\n",
    "def file2array(file):\n",
    "    # load in each line of data as array\n",
    "    with open(file, 'r') as f:\n",
    "        line_string = f.read().splitlines()\n",
    "    \n",
    "    # loop through the lines from the file, split, and append to list\n",
    "    list = []\n",
    "    timestamp = 0 # default \n",
    "    for i, line in enumerate(line_string):\n",
    "        list.append(line.split())\n",
    "\n",
    "    # convert list to an array of type float64\n",
    "    array = np.asarray(list, dtype=np.float64)\n",
    "\n",
    "    return(array)\n",
    "node_file = '../abaqus/final_elastic/nodes.txt'\n",
    "nodal_coordinates = file2array(node_file)\n",
    "grid = nodal_coordinates[:,1:3]\n",
    "print(grid)\n",
    "print(np.shape(grid))"
   ]
  },
  {
   "cell_type": "code",
   "execution_count": 43,
   "id": "68a3e0cb-0c57-4fb2-b7fd-89dcd676eb96",
   "metadata": {},
   "outputs": [],
   "source": [
    "# Extract time and put in an array\n",
    "time = [] # will be shape (81,)\n",
    "for DataArray in set.values():\n",
    "    time.append(DataArray.attrs['time'])"
   ]
  },
  {
   "cell_type": "code",
   "execution_count": 44,
   "id": "6be5b395-14cd-47ff-8c16-adba2d1b2eee",
   "metadata": {},
   "outputs": [
    {
     "data": {
      "image/png": "[encoded data removed]",
      "text/plain": [
       "<Figure size 432x288 with 1 Axes>"
      ]
     },
     "metadata": {
      "needs_background": "light"
     },
     "output_type": "display_data"
    }
   ],
   "source": [
    "# Check that data loaded in correctly by plotting disp_y for node 1 (bottom left) and node 2715 (top left)\n",
    "plt.plot(time,set.sel(field='uy',node='1').to_array(),   color='red',label='node_1')\n",
    "plt.plot(time,set.sel(field='uy',node='2715').to_array(),color='blue',label='node_2715')\n",
    "plt.xlabel('time (s)')\n",
    "plt.ylabel('displacement (mm)')\n",
    "plt.legend()\n",
    "plt.show()"
   ]
  },
  {
   "cell_type": "code",
   "execution_count": 46,
   "id": "8765ee93",
   "metadata": {},
   "outputs": [
    {
     "name": "stdout",
     "output_type": "stream",
     "text": [
      "(81, 2760)\n",
      "(81, 2760)\n",
      "<xarray.DataArray (variable: 81, node: 2760)>\n",
      "array([[  0.        ,   0.        ,   0.        , ...,   0.        ,\n",
      "          0.        ,   0.        ],\n",
      "       [  1.92306888,   1.92306888,   1.92306888, ...,   1.92306888,\n",
      "          1.92306888,   1.92306888],\n",
      "       [  3.84612179,   3.84612179,   3.84612179, ...,   3.84612179,\n",
      "          3.84612179,   3.84612179],\n",
      "       ...,\n",
      "       [149.95127869, 149.95127869, 149.95127869, ..., 149.95127869,\n",
      "        149.95127869, 149.95127869],\n",
      "       [151.87309265, 151.87309265, 151.87309265, ..., 151.87309265,\n",
      "        151.87309265, 151.87309265],\n",
      "       [153.79489136, 153.79489136, 153.79489136, ..., 153.79489136,\n",
      "        153.79489136, 153.79489136]])\n",
      "Coordinates:\n",
      "  * node      (node) object '1' '2' '3' '4' '5' ... '2757' '2758' '2759' '2760'\n",
      "    field     <U3 'S22'\n",
      "  * variable  (variable) <U8 'step_000' 'step_001' ... 'step_079' 'step_080'\n"
     ]
    }
   ],
   "source": [
    "#disp_x=set.sel(field='ux').to_array()\n",
    "print(np.shape(disp_x)) # (81, 2760)\n",
    "P_star = set.sel(field='S22').to_array() #(81, 2760)\n",
    "print(np.shape(P_star))\n",
    "print(P_star)"
   ]
  },
  {
   "cell_type": "code",
   "execution_count": 132,
   "id": "61e54bb5",
   "metadata": {},
   "outputs": [
    {
     "data": {
      "text/plain": [
       "(2760, 2)"
      ]
     },
     "execution_count": 132,
     "metadata": {},
     "output_type": "execute_result"
    }
   ],
   "source": [
    "np.shape(grid)"
   ]
  },
  {
   "cell_type": "code",
   "execution_count": 185,
   "id": "31e551c8-395b-4454-b213-40fdd306cbcc",
   "metadata": {},
   "outputs": [],
   "source": [
    "# define function for subsampling data\n",
    "def PrepareData(data, grid, time, random=True): # num_data, data_file\n",
    "    \n",
    "    # Load data\n",
    "    #data = scipy.io.loadmat('/content/' + data_file)\n",
    "    #data = scipy.io.loadmat(data_file)\n",
    "    \n",
    "    # will want to change these to correspond to our input variables\n",
    "    #U_star = data['U_star'] # N x 2 x T\n",
    "    ## displacements -> U_star\n",
    "    disp_x=set.sel(field='ux').to_array() # T x N # (81, 2760)\n",
    "    disp_y=set.sel(field='uy').to_array() # T x N # (81, 2760)\n",
    "    U_star=np.dstack([disp_x,disp_y])     # T x N x 2 (81, 2760, 2)\n",
    "    \n",
    "    # time\n",
    "    time = [] # will be shape (81,)\n",
    "    for DataArray in set.values():\n",
    "        time.append(DataArray.attrs['time'])\n",
    "    \n",
    "    # Solution S22 -> P_star\n",
    "    P_star = np.asarray(set.sel(field='S22').to_array()) # T x N\n",
    "    print(np.shape(P_star))\n",
    "    \n",
    "    # time -> t_star\n",
    "    t_star = time #data['t'] # T x 1 # (81,)\n",
    "    \n",
    "    # grid -> X_star\n",
    "    X_star = grid # grid is N x 2 or shape (2760, 2)\n",
    "    \n",
    "    N = np.shape(X_star)[0] #X_star.shape[0]\n",
    "    T = np.shape(t_star)[0] #t_star.shape[0]\n",
    "    \n",
    "    # Rearrange Data \n",
    "    XX = np.tile(X_star[:,0:1], (1,T)) # N x T # (2760, 81)\n",
    "    YY = np.tile(X_star[:,1:2], (1,T)) # N x T # (2760, 81)\n",
    "    TT = np.tile(t_star, (1,N)).T # NT x 1 # (223560, 1)\n",
    "    \n",
    "    UU = U_star[:,:,0].T # N x T\n",
    "    VV = U_star[:,:,1].T # N x T\n",
    "    PP = P_star.T # N x T\n",
    "    print(np.shape(PP)) # N x T\n",
    "    \n",
    "    # Pick random data.\n",
    "    if random:\n",
    "        idx = np.random.choice(N*T, N, replace=False) # num_data\n",
    "    else:\n",
    "        idx = np.arange(0, N*T)\n",
    "    \n",
    "    x = XX\n",
    "    y = YY\n",
    "    t = t_star\n",
    "    \n",
    "    x = XX.flatten()[idx,None] # NT x 1\n",
    "    y = YY.flatten()[idx,None] # NT x 1\n",
    "    t = TT.flatten()[idx,None] # NT x 1\n",
    "    \n",
    "    u = UU # T x N # (81, 2760)\n",
    "    v = VV # T x N # (81, 2760)\n",
    "    p = PP # T x N # (81, 2760)\n",
    "    \n",
    "    u = UU.flatten()[idx,None] # NT x 1\n",
    "    v = VV.flatten()[idx,None] # NT x 1\n",
    "    p = PP.flatten()[idx,None] # NT x 1\n",
    " \n",
    "    return (x,y,t,u,v,p)\n"
   ]
  },
  {
   "cell_type": "code",
   "execution_count": 188,
   "id": "f2503dca",
   "metadata": {},
   "outputs": [
    {
     "name": "stdout",
     "output_type": "stream",
     "text": [
      "(81, 2760)\n",
      "(2760, 81)\n",
      "(2760, 1)\n",
      "(2760, 1)\n",
      "(2760, 1)\n",
      "(2760, 1)\n",
      "(2760, 1)\n",
      "(2760, 1)\n"
     ]
    }
   ],
   "source": [
    "x,y,t,u,v,p = PrepareData(set, grid, time, random=True)\n",
    "# print(data_prep)\n",
    "#print(disp_x.shape) # [:,2759]\n",
    "#print(t.shape) # [:,80]\n",
    "print(np.shape(x))\n",
    "print(np.shape(y))\n",
    "print(np.shape(t))\n",
    "print(np.shape(u))\n",
    "print(np.shape(v))\n",
    "print(np.shape(p))"
   ]
  },
  {
   "cell_type": "code",
   "execution_count": 9,
   "id": "28469496-d8e7-4f8f-96e7-fe763ef6b396",
   "metadata": {},
   "outputs": [
    {
     "ename": "NameError",
     "evalue": "name 'u' is not defined",
     "output_type": "error",
     "traceback": [
      "\u001b[0;31m---------------------------------------------------------------------------\u001b[0m",
      "\u001b[0;31mNameError\u001b[0m                                 Traceback (most recent call last)",
      "\u001b[0;32m/tmp/ipykernel_5388/4017746049.py\u001b[0m in \u001b[0;36m<module>\u001b[0;34m\u001b[0m\n\u001b[1;32m     33\u001b[0m \u001b[0;34m\u001b[0m\u001b[0m\n\u001b[1;32m     34\u001b[0m \u001b[0;31m# partials\u001b[0m\u001b[0;34m\u001b[0m\u001b[0;34m\u001b[0m\u001b[0m\n\u001b[0;32m---> 35\u001b[0;31m \u001b[0mu_t\u001b[0m \u001b[0;34m=\u001b[0m \u001b[0msn\u001b[0m\u001b[0;34m.\u001b[0m\u001b[0mdiff\u001b[0m\u001b[0;34m(\u001b[0m\u001b[0mu\u001b[0m\u001b[0;34m,\u001b[0m \u001b[0mt\u001b[0m\u001b[0;34m)\u001b[0m\u001b[0;34m\u001b[0m\u001b[0;34m\u001b[0m\u001b[0m\n\u001b[0m\u001b[1;32m     36\u001b[0m \u001b[0mu_x\u001b[0m \u001b[0;34m=\u001b[0m \u001b[0msn\u001b[0m\u001b[0;34m.\u001b[0m\u001b[0mdiff\u001b[0m\u001b[0;34m(\u001b[0m\u001b[0mu\u001b[0m\u001b[0;34m,\u001b[0m \u001b[0mx\u001b[0m\u001b[0;34m)\u001b[0m\u001b[0;34m\u001b[0m\u001b[0;34m\u001b[0m\u001b[0m\n\u001b[1;32m     37\u001b[0m \u001b[0mu_y\u001b[0m \u001b[0;34m=\u001b[0m \u001b[0msn\u001b[0m\u001b[0;34m.\u001b[0m\u001b[0mdiff\u001b[0m\u001b[0;34m(\u001b[0m\u001b[0mu\u001b[0m\u001b[0;34m,\u001b[0m \u001b[0my\u001b[0m\u001b[0;34m)\u001b[0m\u001b[0;34m\u001b[0m\u001b[0;34m\u001b[0m\u001b[0m\n",
      "\u001b[0;31mNameError\u001b[0m: name 'u' is not defined"
     ]
    }
   ],
   "source": [
    "# Setting up cost function\n",
    "layers = 8\n",
    "neurons = 20\n",
    "\n",
    "x = sn.Variable(\"x\", dtype='float64')\n",
    "y = sn.Variable(\"y\", dtype='float64')\n",
    "t = sn.Variable(\"t\", dtype='float64')\n",
    "\n",
    "P = sn.Functional(\"P\", [x, y, t], layers*[neurons], 'tanh') # HMMMMM?\n",
    "Psi = sn.Functional(\"Psi\", [x, y, t], layers*[neurons], 'tanh') # HMMMMM?\n",
    "\n",
    "'''\n",
    "Abaqus takes E and nu\n",
    "The Navier form of equations takes mu and lambda\n",
    "\n",
    "E = [mu*(3*lambda + 2*mu)] / [lambda + mu]\n",
    "nu = lambda / [2*(lambda + mu)]\n",
    "\n",
    "mu = E / [2*(1 + nu)]\n",
    "lambda = [nu*E] / [(1 + nu)*(1 - 2*nu)]\n",
    "\n",
    "Inputs values:\n",
    "E  = 210 GPa\n",
    "nu = 0.3\n",
    "\n",
    "Expected values:\n",
    "mu     =  63.636363 GPa\n",
    "lambda = 121.154385 GPa\n",
    "'''\n",
    "\n",
    "mu = sn.Parameter(np.random.rand(), inputs=[x,y,t], name=\"mu\")\n",
    "lamb = sn.Parameter(np.random.rand(), inputs=[x,y,t], name=\"lambda\")\n",
    "\n",
    "# partials\n",
    "u_t = sn.diff(u, t)\n",
    "u_x = sn.diff(u, x)\n",
    "u_y = sn.diff(u, y)\n",
    "u_tt = sn.diff(u, t, order=2)\n",
    "u_xx = sn.diff(u, x, order=2)\n",
    "u_yy = sn.diff(u, y, order=2)\n",
    "u_xy = sn.diff(u_x, y)\n",
    "\n",
    "v_t = sn.diff(v, t)\n",
    "v_x = sn.diff(v, x)\n",
    "v_y = sn.diff(v, y)\n",
    "v_tt = sn.diff(v, t, order=2)\n",
    "v_xx = sn.diff(v, x, order=2)\n",
    "v_yy = sn.diff(v, y, order=2)\n",
    "v_xy = sn.diff(v_x, y)\n",
    "\n",
    "# define constraints\n",
    "d1 = sn.Data(u)\n",
    "d2 = sn.Data(v)\n",
    "d3 = sn.Data(P) # HMMMMM?\n",
    "\n"
   ]
  }
 ],
 "metadata": {
  "kernelspec": {
   "display_name": "Python 3 (ipykernel)",
   "language": "python",
   "name": "python3"
  },
  "language_info": {
   "codemirror_mode": {
    "name": "ipython",
    "version": 3
   },
   "file_extension": ".py",
   "mimetype": "text/x-python",
   "name": "python",
   "nbconvert_exporter": "python",
   "pygments_lexer": "ipython3",
   "version": "3.9.7"
  }
 },
 "nbformat": 4,
 "nbformat_minor": 5
}
