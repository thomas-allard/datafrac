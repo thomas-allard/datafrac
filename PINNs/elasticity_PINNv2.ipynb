{
 "cells": [
  {
   "cell_type": "markdown",
   "id": "2d5773c0-d7b8-457a-a36e-ed4804b88feb",
   "metadata": {},
   "source": [
    "# Uniaxial Tension - Elasticity, Physics Informed Neural Network"
   ]
  },
  {
   "cell_type": "markdown",
   "id": "0ebede27-2773-4e09-8f97-0c8084b14a9f",
   "metadata": {},
   "source": [
    "Thomas Allard and Samantha Walker"
   ]
  },
  {
   "cell_type": "code",
   "execution_count": 1,
   "id": "7ca17acf-24c5-4365-ab69-4697d2605dd6",
   "metadata": {},
   "outputs": [
    {
     "name": "stderr",
     "output_type": "stream",
     "text": [
      "2022-04-21 20:38:03.974123: W tensorflow/stream_executor/platform/default/dso_loader.cc:64] Could not load dynamic library 'libcudart.so.11.0'; dlerror: libcudart.so.11.0: cannot open shared object file: No such file or directory; LD_LIBRARY_PATH: :/mnt/c/Windows/System32/xdmf/build/lib:/mnt/c/Windows/System32/yaml-cpp/build\n",
      "2022-04-21 20:38:03.974216: I tensorflow/stream_executor/cuda/cudart_stub.cc:29] Ignore above cudart dlerror if you do not have a GPU set up on your machine.\n"
     ]
    },
    {
     "name": "stdout",
     "output_type": "stream",
     "text": [
      "---------------------- SCIANN 0.6.6.1 ---------------------- \n",
      "For details, check out our review paper and the documentation at: \n",
      " +  \"https://www.sciencedirect.com/science/article/pii/S0045782520307374\", \n",
      " +  \"https://arxiv.org/abs/2005.08803\", \n",
      " +  \"https://www.sciann.com\". \n",
      "\n",
      " Need support or would like to contribute, please join sciann`s slack group: \n",
      " +  \"https://join.slack.com/t/sciann/shared_invite/zt-ne1f5jlx-k_dY8RGo3ZreDXwz0f~CeA\" \n",
      " \n",
      "TensorFlow Version: 2.5.3 \n",
      "Python Version: 3.8.12 | packaged by conda-forge | (default, Jan 30 2022, 23:53:36) \n",
      "[GCC 9.4.0] \n",
      "\n"
     ]
    }
   ],
   "source": [
    "#Imports\n",
    "import numpy as np \n",
    "import sciann as sn \n",
    "import matplotlib.pyplot as plt\n",
    "import scipy.io\n",
    "import netCDF4\n",
    "import xarray as xr\n",
    "\n",
    "import os"
   ]
  },
  {
   "cell_type": "code",
   "execution_count": 2,
   "id": "d31acdf6-be83-4ec6-9fae-4bff56416d89",
   "metadata": {},
   "outputs": [],
   "source": [
    "# Specify parameters and things\n",
    "mode = 'train'   # 'test' to load PINN weights from previously trained model\n",
    "                # 'train' to train a new model\n",
    "\n",
    "#trained_file = 'trained-navier-stokes.hdf5'\n",
    "data_file = '../abaqus/final_elastic/elastic_cdf.nc'"
   ]
  },
  {
   "cell_type": "code",
   "execution_count": 3,
   "id": "517fccba-5691-4001-ab60-37ec4a841eaf",
   "metadata": {},
   "outputs": [],
   "source": [
    "# load in data_file as xarray DataSet\n",
    "set = xr.open_dataset(data_file)"
   ]
  },
  {
   "cell_type": "code",
   "execution_count": 4,
   "id": "0825236c-2706-494b-922e-94b940938686",
   "metadata": {},
   "outputs": [
    {
     "name": "stdout",
     "output_type": "stream",
     "text": [
      "(81, 2760, 2)\n"
     ]
    }
   ],
   "source": [
    "# Load in displacements and create an ndarray\n",
    "disp_x=set.sel(field='ux').to_array()\n",
    "disp_y=set.sel(field='uy').to_array()\n",
    "disps=np.dstack([disp_x,disp_y])\n",
    "print(np.shape(disps))\n",
    "# Num = np.shape(disps)[1] # 2760\n",
    "# Var_Num = np.shape(disps)[2] # 2"
   ]
  },
  {
   "cell_type": "code",
   "execution_count": 5,
   "id": "96316ce2-5d29-4e14-8849-49404baf99f4",
   "metadata": {},
   "outputs": [
    {
     "name": "stdout",
     "output_type": "stream",
     "text": [
      "[[    0.        -1500.       ]\n",
      " [   66.6666641 -1500.       ]\n",
      " [  133.333328  -1500.       ]\n",
      " ...\n",
      " [ 2866.66675    1500.       ]\n",
      " [ 2933.33325    1500.       ]\n",
      " [ 3000.         1500.       ]]\n",
      "(2760, 2)\n"
     ]
    }
   ],
   "source": [
    "# Load in grid\n",
    "def file2array(file):\n",
    "    # load in each line of data as array\n",
    "    with open(file, 'r') as f:\n",
    "        line_string = f.read().splitlines()\n",
    "    \n",
    "    # loop through the lines from the file, split, and append to list\n",
    "    list = []\n",
    "    timestamp = 0 # default \n",
    "    for i, line in enumerate(line_string):\n",
    "        list.append(line.split())\n",
    "\n",
    "    # convert list to an array of type float64\n",
    "    array = np.asarray(list, dtype=np.float64)\n",
    "\n",
    "    return(array)\n",
    "node_file = '../abaqus/final_elastic/nodes.txt'\n",
    "nodal_coordinates = file2array(node_file)\n",
    "grid = nodal_coordinates[:,1:3]\n",
    "print(grid)\n",
    "print(np.shape(grid))"
   ]
  },
  {
   "cell_type": "code",
   "execution_count": 6,
   "id": "68a3e0cb-0c57-4fb2-b7fd-89dcd676eb96",
   "metadata": {},
   "outputs": [],
   "source": [
    "# Extract time and put in an array\n",
    "time = [] # will be shape (81,)\n",
    "for DataArray in set.values():\n",
    "    time.append(DataArray.attrs['time'])"
   ]
  },
  {
   "cell_type": "code",
   "execution_count": 7,
   "id": "6be5b395-14cd-47ff-8c16-adba2d1b2eee",
   "metadata": {},
   "outputs": [
    {
     "data": {
      "image/png": "[encoded data removed]",
      "text/plain": [
       "<Figure size 432x288 with 1 Axes>"
      ]
     },
     "metadata": {
      "needs_background": "light"
     },
     "output_type": "display_data"
    }
   ],
   "source": [
    "# Check that data loaded in correctly by plotting disp_y for node 1 (bottom left) and node 2715 (top left)\n",
    "plt.plot(time,set.sel(field='uy',node='1').to_array(),   color='red',label='node_1')\n",
    "plt.plot(time,set.sel(field='uy',node='2715').to_array(),color='blue',label='node_2715')\n",
    "plt.xlabel('time (s)')\n",
    "plt.ylabel('displacement (mm)')\n",
    "plt.legend()\n",
    "plt.show()"
   ]
  },
  {
   "cell_type": "code",
   "execution_count": 8,
   "id": "8765ee93",
   "metadata": {},
   "outputs": [
    {
     "name": "stdout",
     "output_type": "stream",
     "text": [
      "(81, 2760)\n",
      "(81, 2760)\n",
      "<xarray.DataArray (variable: 81, node: 2760)>\n",
      "array([[  0.        ,   0.        ,   0.        , ...,   0.        ,\n",
      "          0.        ,   0.        ],\n",
      "       [  1.92306888,   1.92306888,   1.92306888, ...,   1.92306888,\n",
      "          1.92306888,   1.92306888],\n",
      "       [  3.84612179,   3.84612179,   3.84612179, ...,   3.84612179,\n",
      "          3.84612179,   3.84612179],\n",
      "       ...,\n",
      "       [149.95127869, 149.95127869, 149.95127869, ..., 149.95127869,\n",
      "        149.95127869, 149.95127869],\n",
      "       [151.87309265, 151.87309265, 151.87309265, ..., 151.87309265,\n",
      "        151.87309265, 151.87309265],\n",
      "       [153.79489136, 153.79489136, 153.79489136, ..., 153.79489136,\n",
      "        153.79489136, 153.79489136]])\n",
      "Coordinates:\n",
      "  * node      (node) object '1' '2' '3' '4' '5' ... '2757' '2758' '2759' '2760'\n",
      "    field     <U3 'S22'\n",
      "  * variable  (variable) <U8 'step_000' 'step_001' ... 'step_079' 'step_080'\n"
     ]
    }
   ],
   "source": [
    "#disp_x=set.sel(field='ux').to_array()\n",
    "print(np.shape(disp_x)) # (81, 2760)\n",
    "P_star = set.sel(field='S22').to_array() #(81, 2760)\n",
    "print(np.shape(P_star))\n",
    "print(P_star)"
   ]
  },
  {
   "cell_type": "code",
   "execution_count": 9,
   "id": "61e54bb5",
   "metadata": {},
   "outputs": [
    {
     "data": {
      "text/plain": [
       "(2760, 2)"
      ]
     },
     "execution_count": 9,
     "metadata": {},
     "output_type": "execute_result"
    }
   ],
   "source": [
    "np.shape(grid)"
   ]
  },
  {
   "cell_type": "code",
   "execution_count": 10,
   "id": "31e551c8-395b-4454-b213-40fdd306cbcc",
   "metadata": {},
   "outputs": [],
   "source": [
    "# define function for subsampling data\n",
    "def PrepareData(data, grid, time, random=True): # num_data, data_file\n",
    "    \n",
    "    # Load data\n",
    "    #data = scipy.io.loadmat('/content/' + data_file)\n",
    "    #data = scipy.io.loadmat(data_file)\n",
    "    \n",
    "    # will want to change these to correspond to our input variables\n",
    "    #U_star = data['U_star'] # N x 2 x T\n",
    "    ## displacements -> U_star\n",
    "    disp_x=set.sel(field='ux').to_array() # T x N # (81, 2760)\n",
    "    disp_y=set.sel(field='uy').to_array() # T x N # (81, 2760)\n",
    "    U_star=np.dstack([disp_x,disp_y])     # T x N x 2 (81, 2760, 2)\n",
    "    \n",
    "    # time\n",
    "    time = [] # will be shape (81,)\n",
    "    for DataArray in set.values():\n",
    "        time.append(DataArray.attrs['time'])\n",
    "    \n",
    "    # Solution S22 -> P_star\n",
    "    P_star = np.asarray(set.sel(field='S22').to_array()) # T x N\n",
    "    print(np.shape(P_star))\n",
    "    \n",
    "    # time -> t_star\n",
    "    t_star = time #data['t'] # T x 1 # (81,)\n",
    "    \n",
    "    # grid -> X_star\n",
    "    X_star = grid # grid is N x 2 or shape (2760, 2)\n",
    "    \n",
    "    N = np.shape(X_star)[0] #X_star.shape[0]\n",
    "    T = np.shape(t_star)[0] #t_star.shape[0]\n",
    "    \n",
    "    # Rearrange Data \n",
    "    XX = np.tile(X_star[:,0:1], (1,T)) # N x T # (2760, 81)\n",
    "    YY = np.tile(X_star[:,1:2], (1,T)) # N x T # (2760, 81)\n",
    "    TT = np.tile(t_star, (1,N)).T # NT x 1 # (223560, 1)\n",
    "    \n",
    "    UU = U_star[:,:,0].T # N x T\n",
    "    VV = U_star[:,:,1].T # N x T\n",
    "    PP = P_star.T # N x T\n",
    "    print(np.shape(PP)) # N x T\n",
    "    \n",
    "    # Pick random data.\n",
    "    if random:\n",
    "        idx = np.random.choice(N*T, N, replace=False) # num_data\n",
    "    else:\n",
    "        idx = np.arange(0, N*T)\n",
    "    \n",
    "    x = XX\n",
    "    y = YY\n",
    "    t = t_star\n",
    "    \n",
    "    x = XX.flatten()[idx,None] # NT x 1\n",
    "    y = YY.flatten()[idx,None] # NT x 1\n",
    "    t = TT.flatten()[idx,None] # NT x 1\n",
    "    \n",
    "    u = UU # T x N # (81, 2760)\n",
    "    v = VV # T x N # (81, 2760)\n",
    "    p = PP # T x N # (81, 2760)\n",
    "    \n",
    "    u = UU.flatten()[idx,None] # NT x 1\n",
    "    v = VV.flatten()[idx,None] # NT x 1\n",
    "    p = PP.flatten()[idx,None] # NT x 1\n",
    " \n",
    "    return (x,y,t,u,v,p)\n"
   ]
  },
  {
   "cell_type": "code",
   "execution_count": 11,
   "id": "f2503dca",
   "metadata": {},
   "outputs": [
    {
     "name": "stdout",
     "output_type": "stream",
     "text": [
      "(81, 2760)\n",
      "(2760, 81)\n",
      "(2760, 1)\n",
      "(2760, 1)\n",
      "(2760, 1)\n",
      "(2760, 1)\n",
      "(2760, 1)\n",
      "(2760, 1)\n"
     ]
    }
   ],
   "source": [
    "x,y,t,u,v,p = PrepareData(set, grid, time, random=True)\n",
    "# print(data_prep)\n",
    "#print(disp_x.shape) # [:,2759]\n",
    "#print(t.shape) # [:,80]\n",
    "print(np.shape(x))\n",
    "print(np.shape(y))\n",
    "print(np.shape(t))\n",
    "print(np.shape(u))\n",
    "print(np.shape(v))\n",
    "print(np.shape(p))"
   ]
  },
  {
   "cell_type": "code",
   "execution_count": 16,
   "id": "28469496-d8e7-4f8f-96e7-fe763ef6b396",
   "metadata": {},
   "outputs": [
    {
     "name": "stdout",
     "output_type": "stream",
     "text": [
      "(81, 2760)\n",
      "(2760, 81)\n",
      "../logs/log_layers8_neurons20_epochs100_batchsize100_learning_rate0.001_reduce_lr_after1000 is created!\n",
      "\n",
      "Total samples: 2760 \n",
      "Batch size: 100 \n",
      "Total batches: 28 \n",
      "\n"
     ]
    },
    {
     "name": "stderr",
     "output_type": "stream",
     "text": [
      "2022-04-21 20:53:28.643996: W tensorflow/stream_executor/platform/default/dso_loader.cc:64] Could not load dynamic library 'libcuda.so.1'; dlerror: libcuda.so.1: cannot open shared object file: No such file or directory; LD_LIBRARY_PATH: :/mnt/c/Windows/System32/xdmf/build/lib:/mnt/c/Windows/System32/yaml-cpp/build\n",
      "2022-04-21 20:53:28.644865: W tensorflow/stream_executor/cuda/cuda_driver.cc:326] failed call to cuInit: UNKNOWN ERROR (303)\n",
      "2022-04-21 20:53:28.644979: I tensorflow/stream_executor/cuda/cuda_diagnostics.cc:156] kernel driver does not appear to be running on this host (DESKTOP-KVJB0RN): /proc/driver/nvidia/version does not exist\n",
      "2022-04-21 20:53:28.647247: I tensorflow/core/platform/cpu_feature_guard.cc:142] This TensorFlow binary is optimized with oneAPI Deep Neural Network Library (oneDNN) to use the following CPU instructions in performance-critical operations:  AVX2 FMA\n",
      "To enable them in other operations, rebuild TensorFlow with the appropriate compiler flags.\n",
      "2022-04-21 20:53:30.641164: I tensorflow/core/platform/profile_utils/cpu_utils.cc:114] CPU Frequency: 1608000000 Hz\n"
     ]
    },
    {
     "name": "stdout",
     "output_type": "stream",
     "text": [
      "Epoch 1/100\n",
      "28/28 [==============================] - 33s 72ms/step - batch: 13.5000 - size: 98.5714 - loss: 7649.8561 - Grad__43_loss: 0.0797 - mul_19_loss: 0.1169 - P_loss: 7649.9343 - sub_11_loss: 1.6224e-04 - sub_13_loss: 1.6956e-04 - add_20_loss: 3.4425e-04 - mul_26_loss: 0.0000e+00 - lr: 0.0010 - time: 31.8216 - mu: 0.2797 - lambda: 0.4942\n",
      "Epoch 2/100\n",
      "28/28 [==============================] - 0s 12ms/step - batch: 13.5000 - size: 98.5714 - loss: 7223.3358 - Grad__43_loss: 0.0802 - mul_19_loss: 0.1174 - P_loss: 7223.7973 - sub_11_loss: 2.8806e-04 - sub_13_loss: 2.9090e-04 - add_20_loss: 4.8701e-05 - mul_26_loss: 0.0000e+00 - lr: 0.0010 - time: 0.3406 - mu: 0.2826 - lambda: 0.4912\n",
      "Epoch 3/100\n",
      "28/28 [==============================] - 0s 13ms/step - batch: 13.5000 - size: 98.5714 - loss: 6909.2375 - Grad__43_loss: 0.0799 - mul_19_loss: 0.1168 - P_loss: 6909.1332 - sub_11_loss: 0.0028 - sub_13_loss: 0.0028 - add_20_loss: 3.6460e-05 - mul_26_loss: 0.0000e+00 - lr: 0.0010 - time: 0.4597 - mu: 0.2841 - lambda: 0.4898\n",
      "Epoch 4/100\n",
      "28/28 [==============================] - 0s 13ms/step - batch: 13.5000 - size: 98.5714 - loss: 6734.9171 - Grad__43_loss: 0.0797 - mul_19_loss: 0.1170 - P_loss: 6734.7750 - sub_11_loss: 8.3771e-05 - sub_13_loss: 7.5599e-05 - add_20_loss: 2.0806e-05 - mul_26_loss: 0.0000e+00 - lr: 0.0010 - time: 0.4466 - mu: 0.2850 - lambda: 0.4888\n",
      "Epoch 5/100\n",
      "28/28 [==============================] - 0s 13ms/step - batch: 13.5000 - size: 98.5714 - loss: 6628.8248 - Grad__43_loss: 0.0801 - mul_19_loss: 0.1173 - P_loss: 6629.2103 - sub_11_loss: 7.7593e-05 - sub_13_loss: 7.6040e-05 - add_20_loss: 2.0802e-05 - mul_26_loss: 0.0000e+00 - lr: 0.0010 - time: 0.4508 - mu: 0.2861 - lambda: 0.4876\n",
      "Epoch 6/100\n",
      "28/28 [==============================] - 0s 13ms/step - batch: 13.5000 - size: 98.5714 - loss: 6526.9969 - Grad__43_loss: 0.0800 - mul_19_loss: 0.1170 - P_loss: 6527.4305 - sub_11_loss: 3.7702e-05 - sub_13_loss: 5.7965e-05 - add_20_loss: 2.4452e-05 - mul_26_loss: 0.0000e+00 - lr: 0.0010 - time: 0.4545 - mu: 0.2876 - lambda: 0.4861\n",
      "Epoch 7/100\n",
      "28/28 [==============================] - 0s 13ms/step - batch: 13.5000 - size: 98.5714 - loss: 6400.4332 - Grad__43_loss: 0.0794 - mul_19_loss: 0.1161 - P_loss: 6399.7221 - sub_11_loss: 4.0175e-05 - sub_13_loss: 4.4003e-05 - add_20_loss: 1.8856e-04 - mul_26_loss: 0.0000e+00 - lr: 0.0010 - time: 0.4560 - mu: 0.2972 - lambda: 0.4761\n",
      "Epoch 8/100\n",
      "28/28 [==============================] - 0s 13ms/step - batch: 13.5000 - size: 98.5714 - loss: 6333.8597 - Grad__43_loss: 0.0797 - mul_19_loss: 0.1170 - P_loss: 6333.9425 - sub_11_loss: 1.9460e-05 - sub_13_loss: 5.5534e-05 - add_20_loss: 4.6201e-05 - mul_26_loss: 0.0000e+00 - lr: 0.0010 - time: 0.4524 - mu: 0.3040 - lambda: 0.4688\n",
      "Epoch 9/100\n",
      "28/28 [==============================] - 0s 12ms/step - batch: 13.5000 - size: 98.5714 - loss: 6225.3792 - Grad__43_loss: 0.0797 - mul_19_loss: 0.1167 - P_loss: 6224.6100 - sub_11_loss: 2.0231e-05 - sub_13_loss: 1.6463e-05 - add_20_loss: 4.5927e-05 - mul_26_loss: 0.0000e+00 - lr: 0.0010 - time: 0.4297 - mu: 0.3075 - lambda: 0.4638\n",
      "Epoch 10/100\n",
      "28/28 [==============================] - 0s 13ms/step - batch: 13.5000 - size: 98.5714 - loss: 6154.1168 - Grad__43_loss: 0.0795 - mul_19_loss: 0.1167 - P_loss: 6153.7685 - sub_11_loss: 1.4563e-05 - sub_13_loss: 1.0677e-05 - add_20_loss: 4.0821e-05 - mul_26_loss: 0.0000e+00 - lr: 0.0010 - time: 0.4626 - mu: 0.3104 - lambda: 0.4605\n",
      "Epoch 11/100\n",
      "28/28 [==============================] - 0s 14ms/step - batch: 13.5000 - size: 98.5714 - loss: 6056.0392 - Grad__43_loss: 0.0793 - mul_19_loss: 0.1164 - P_loss: 6055.0375 - sub_11_loss: 2.9322e-05 - sub_13_loss: 1.0797e-05 - add_20_loss: 4.5469e-05 - mul_26_loss: 0.0000e+00 - lr: 0.0010 - time: 0.4562 - mu: 0.3133 - lambda: 0.4565\n",
      "Epoch 12/100\n",
      "28/28 [==============================] - 0s 13ms/step - batch: 13.5000 - size: 98.5714 - loss: 6015.5403 - Grad__43_loss: 0.0797 - mul_19_loss: 0.1171 - P_loss: 6015.8650 - sub_11_loss: 3.4693e-05 - sub_13_loss: 1.9648e-05 - add_20_loss: 5.1938e-05 - mul_26_loss: 0.0000e+00 - lr: 0.0010 - time: 0.4518 - mu: 0.3160 - lambda: 0.4518\n",
      "Epoch 13/100\n",
      "28/28 [==============================] - 0s 13ms/step - batch: 13.5000 - size: 98.5714 - loss: 5923.9144 - Grad__43_loss: 0.0794 - mul_19_loss: 0.1164 - P_loss: 5923.7016 - sub_11_loss: 1.0941e-05 - sub_13_loss: 2.5048e-05 - add_20_loss: 2.2343e-05 - mul_26_loss: 0.0000e+00 - lr: 0.0010 - time: 0.4446 - mu: 0.3177 - lambda: 0.4493\n",
      "Epoch 14/100\n",
      "28/28 [==============================] - 0s 13ms/step - batch: 13.5000 - size: 98.5714 - loss: 5858.5156 - Grad__43_loss: 0.0796 - mul_19_loss: 0.1169 - P_loss: 5858.6026 - sub_11_loss: 3.2657e-05 - sub_13_loss: 1.3352e-05 - add_20_loss: 5.0840e-05 - mul_26_loss: 0.0000e+00 - lr: 0.0010 - time: 0.4285 - mu: 0.3210 - lambda: 0.4443\n",
      "Epoch 15/100\n",
      "28/28 [==============================] - 0s 13ms/step - batch: 13.5000 - size: 98.5714 - loss: 5785.1180 - Grad__43_loss: 0.0796 - mul_19_loss: 0.1169 - P_loss: 5785.1986 - sub_11_loss: 1.2719e-05 - sub_13_loss: 6.7371e-06 - add_20_loss: 1.9413e-05 - mul_26_loss: 0.0000e+00 - lr: 0.0010 - time: 0.4491 - mu: 0.3222 - lambda: 0.4427\n",
      "Epoch 16/100\n",
      "28/28 [==============================] - 0s 12ms/step - batch: 13.5000 - size: 98.5714 - loss: 5695.0470 - Grad__43_loss: 0.0792 - mul_19_loss: 0.1163 - P_loss: 5694.4832 - sub_11_loss: 2.4095e-05 - sub_13_loss: 5.5436e-05 - add_20_loss: 3.2995e-05 - mul_26_loss: 0.0000e+00 - lr: 0.0010 - time: 0.4206 - mu: 0.3229 - lambda: 0.4416\n",
      "Epoch 17/100\n",
      "28/28 [==============================] - 0s 13ms/step - batch: 13.5000 - size: 98.5714 - loss: 5628.5846 - Grad__43_loss: 0.0790 - mul_19_loss: 0.1169 - P_loss: 5628.1715 - sub_11_loss: 5.0600e-05 - sub_13_loss: 5.7206e-05 - add_20_loss: 2.0849e-04 - mul_26_loss: 0.0000e+00 - lr: 0.0010 - time: 0.4592 - mu: 0.3322 - lambda: 0.4304\n",
      "Epoch 18/100\n",
      "28/28 [==============================] - 0s 13ms/step - batch: 13.5000 - size: 98.5714 - loss: 5573.1921 - Grad__43_loss: 0.0796 - mul_19_loss: 0.1171 - P_loss: 5573.2665 - sub_11_loss: 1.4181e-05 - sub_13_loss: 5.6309e-06 - add_20_loss: 2.3953e-05 - mul_26_loss: 0.0000e+00 - lr: 0.0010 - time: 0.4646 - mu: 0.3380 - lambda: 0.4236\n",
      "Epoch 19/100\n",
      "28/28 [==============================] - 0s 12ms/step - batch: 13.5000 - size: 98.5714 - loss: 5496.7001 - Grad__43_loss: 0.0793 - mul_19_loss: 0.1168 - P_loss: 5496.4746 - sub_11_loss: 7.1027e-05 - sub_13_loss: 2.5425e-05 - add_20_loss: 4.3665e-05 - mul_26_loss: 0.0000e+00 - lr: 0.0010 - time: 0.4275 - mu: 0.3393 - lambda: 0.4218\n",
      "Epoch 20/100\n",
      "28/28 [==============================] - 0s 13ms/step - batch: 13.5000 - size: 98.5714 - loss: 5428.0911 - Grad__43_loss: 0.0794 - mul_19_loss: 0.1167 - P_loss: 5427.7844 - sub_11_loss: 4.2137e-05 - sub_13_loss: 1.4025e-05 - add_20_loss: 4.9553e-05 - mul_26_loss: 0.0000e+00 - lr: 0.0010 - time: 0.4419 - mu: 0.3394 - lambda: 0.4208\n",
      "Epoch 21/100\n",
      "28/28 [==============================] - 0s 13ms/step - batch: 13.5000 - size: 98.5714 - loss: 5365.8155 - Grad__43_loss: 0.0791 - mul_19_loss: 0.1164 - P_loss: 5365.6572 - sub_11_loss: 4.4297e-05 - sub_13_loss: 6.3694e-05 - add_20_loss: 9.9947e-05 - mul_26_loss: 0.0000e+00 - lr: 0.0010 - time: 0.4597 - mu: 0.3413 - lambda: 0.4179\n",
      "Epoch 22/100\n",
      "28/28 [==============================] - 0s 12ms/step - batch: 13.5000 - size: 98.5714 - loss: 5307.6807 - Grad__43_loss: 0.0794 - mul_19_loss: 0.1168 - P_loss: 5307.7572 - sub_11_loss: 4.6895e-05 - sub_13_loss: 2.0131e-05 - add_20_loss: 9.2564e-05 - mul_26_loss: 0.0000e+00 - lr: 0.0010 - time: 0.4254 - mu: 0.3455 - lambda: 0.4132\n",
      "Epoch 23/100\n",
      "28/28 [==============================] - 0s 13ms/step - batch: 13.5000 - size: 98.5714 - loss: 5235.4410 - Grad__43_loss: 0.0793 - mul_19_loss: 0.1164 - P_loss: 5235.1952 - sub_11_loss: 4.1001e-05 - sub_13_loss: 3.5276e-05 - add_20_loss: 7.2303e-05 - mul_26_loss: 0.0000e+00 - lr: 0.0010 - time: 0.4573 - mu: 0.3498 - lambda: 0.4052\n",
      "Epoch 24/100\n",
      "28/28 [==============================] - 0s 14ms/step - batch: 13.5000 - size: 98.5714 - loss: 5178.1703 - Grad__43_loss: 0.0794 - mul_19_loss: 0.1162 - P_loss: 5178.1205 - sub_11_loss: 5.3007e-05 - sub_13_loss: 2.5815e-05 - add_20_loss: 9.5719e-05 - mul_26_loss: 0.0000e+00 - lr: 0.0010 - time: 0.4805 - mu: 0.3509 - lambda: 0.4012\n",
      "Epoch 25/100\n",
      "28/28 [==============================] - 0s 13ms/step - batch: 13.5000 - size: 98.5714 - loss: 5099.5513 - Grad__43_loss: 0.0793 - mul_19_loss: 0.1165 - P_loss: 5098.9034 - sub_11_loss: 3.7319e-05 - sub_13_loss: 1.3499e-05 - add_20_loss: 5.0858e-05 - mul_26_loss: 0.0000e+00 - lr: 0.0010 - time: 0.4536 - mu: 0.3523 - lambda: 0.3994\n",
      "Epoch 26/100\n",
      "28/28 [==============================] - 0s 12ms/step - batch: 13.5000 - size: 98.5714 - loss: 5047.1846 - Grad__43_loss: 0.0794 - mul_19_loss: 0.1165 - P_loss: 5046.8207 - sub_11_loss: 3.0563e-05 - sub_13_loss: 3.1881e-05 - add_20_loss: 7.8089e-05 - mul_26_loss: 0.0000e+00 - lr: 0.0010 - time: 0.4345 - mu: 0.3530 - lambda: 0.3977\n",
      "Epoch 27/100\n",
      "28/28 [==============================] - 0s 12ms/step - batch: 13.5000 - size: 98.5714 - loss: 4987.6215 - Grad__43_loss: 0.0796 - mul_19_loss: 0.1168 - P_loss: 4987.2559 - sub_11_loss: 5.0736e-05 - sub_13_loss: 1.3963e-04 - add_20_loss: 2.7561e-04 - mul_26_loss: 0.0000e+00 - lr: 0.0010 - time: 0.4400 - mu: 0.3681 - lambda: 0.3832\n",
      "Epoch 28/100\n",
      "28/28 [==============================] - 0s 13ms/step - batch: 13.5000 - size: 98.5714 - loss: 4932.6957 - Grad__43_loss: 0.0796 - mul_19_loss: 0.1171 - P_loss: 4932.4828 - sub_11_loss: 3.6212e-05 - sub_13_loss: 1.0740e-05 - add_20_loss: 3.9125e-05 - mul_26_loss: 0.0000e+00 - lr: 0.0010 - time: 0.4462 - mu: 0.3709 - lambda: 0.3796\n",
      "Epoch 29/100\n",
      "28/28 [==============================] - 0s 14ms/step - batch: 13.5000 - size: 98.5714 - loss: 4875.0219 - Grad__43_loss: 0.0791 - mul_19_loss: 0.1174 - P_loss: 4874.8021 - sub_11_loss: 2.6563e-05 - sub_13_loss: 5.9848e-06 - add_20_loss: 9.1456e-05 - mul_26_loss: 0.0000e+00 - lr: 0.0010 - time: 0.4860 - mu: 0.3715 - lambda: 0.3788\n",
      "Epoch 30/100\n",
      "28/28 [==============================] - 0s 12ms/step - batch: 13.5000 - size: 98.5714 - loss: 4831.4854 - Grad__43_loss: 0.0793 - mul_19_loss: 0.1167 - P_loss: 4831.7443 - sub_11_loss: 5.8973e-05 - sub_13_loss: 1.3257e-05 - add_20_loss: 8.7737e-05 - mul_26_loss: 0.0000e+00 - lr: 0.0010 - time: 0.4210 - mu: 0.3717 - lambda: 0.3780\n",
      "Epoch 31/100\n",
      "28/28 [==============================] - 0s 12ms/step - batch: 13.5000 - size: 98.5714 - loss: 4755.5642 - Grad__43_loss: 0.0792 - mul_19_loss: 0.1169 - P_loss: 4755.1436 - sub_11_loss: 5.2635e-05 - sub_13_loss: 9.2249e-06 - add_20_loss: 6.9669e-05 - mul_26_loss: 0.0000e+00 - lr: 0.0010 - time: 0.4356 - mu: 0.3726 - lambda: 0.3767\n",
      "Epoch 32/100\n",
      "28/28 [==============================] - 0s 12ms/step - batch: 13.5000 - size: 98.5714 - loss: 4693.4345 - Grad__43_loss: 0.0790 - mul_19_loss: 0.1166 - P_loss: 4692.7627 - sub_11_loss: 5.4394e-05 - sub_13_loss: 6.5893e-06 - add_20_loss: 6.9544e-05 - mul_26_loss: 0.0000e+00 - lr: 0.0010 - time: 0.4460 - mu: 0.3730 - lambda: 0.3756\n",
      "Epoch 33/100\n",
      "28/28 [==============================] - 0s 13ms/step - batch: 13.5000 - size: 98.5714 - loss: 4652.4261 - Grad__43_loss: 0.0798 - mul_19_loss: 0.1166 - P_loss: 4652.2360 - sub_11_loss: 1.7242e-05 - sub_13_loss: 7.3936e-06 - add_20_loss: 4.6910e-05 - mul_26_loss: 0.0000e+00 - lr: 0.0010 - time: 0.4574 - mu: 0.3751 - lambda: 0.3729\n",
      "Epoch 34/100\n",
      "28/28 [==============================] - 0s 12ms/step - batch: 13.5000 - size: 98.5714 - loss: 4611.1386 - Grad__43_loss: 0.0792 - mul_19_loss: 0.1170 - P_loss: 4611.3955 - sub_11_loss: 3.0505e-05 - sub_13_loss: 9.5186e-06 - add_20_loss: 6.9632e-05 - mul_26_loss: 0.0000e+00 - lr: 0.0010 - time: 0.4259 - mu: 0.3766 - lambda: 0.3707\n",
      "Epoch 35/100\n",
      "28/28 [==============================] - 0s 13ms/step - batch: 13.5000 - size: 98.5714 - loss: 4552.9673 - Grad__43_loss: 0.0792 - mul_19_loss: 0.1169 - P_loss: 4553.0391 - sub_11_loss: 5.1042e-05 - sub_13_loss: 1.3337e-05 - add_20_loss: 1.0188e-04 - mul_26_loss: 0.0000e+00 - lr: 0.0010 - time: 0.4493 - mu: 0.3772 - lambda: 0.3688\n",
      "Epoch 36/100\n",
      "28/28 [==============================] - 0s 12ms/step - batch: 13.5000 - size: 98.5714 - loss: 4498.3723 - Grad__43_loss: 0.0797 - mul_19_loss: 0.1172 - P_loss: 4498.3455 - sub_11_loss: 2.9255e-05 - sub_13_loss: 1.2757e-05 - add_20_loss: 7.5619e-05 - mul_26_loss: 0.0000e+00 - lr: 0.0010 - time: 0.4296 - mu: 0.3774 - lambda: 0.3674\n",
      "Epoch 37/100\n",
      "28/28 [==============================] - 0s 13ms/step - batch: 13.5000 - size: 98.5714 - loss: 4443.0094 - Grad__43_loss: 0.0790 - mul_19_loss: 0.1169 - P_loss: 4442.8529 - sub_11_loss: 9.4642e-05 - sub_13_loss: 2.4501e-05 - add_20_loss: 1.4455e-04 - mul_26_loss: 0.0000e+00 - lr: 0.0010 - time: 0.4405 - mu: 0.3812 - lambda: 0.3632\n",
      "Epoch 38/100\n",
      "28/28 [==============================] - 0s 12ms/step - batch: 13.5000 - size: 98.5714 - loss: 4386.6986 - Grad__43_loss: 0.0796 - mul_19_loss: 0.1167 - P_loss: 4386.3051 - sub_11_loss: 3.9407e-05 - sub_13_loss: 2.0599e-05 - add_20_loss: 6.7604e-05 - mul_26_loss: 0.0000e+00 - lr: 0.0010 - time: 0.4566 - mu: 0.3842 - lambda: 0.3582\n",
      "Epoch 39/100\n",
      "28/28 [==============================] - 0s 13ms/step - batch: 13.5000 - size: 98.5714 - loss: 4353.2583 - Grad__43_loss: 0.0796 - mul_19_loss: 0.1167 - P_loss: 4353.4624 - sub_11_loss: 2.1080e-05 - sub_13_loss: 1.5647e-05 - add_20_loss: 6.0734e-05 - mul_26_loss: 0.0000e+00 - lr: 0.0010 - time: 0.4528 - mu: 0.3877 - lambda: 0.3534\n",
      "Epoch 40/100\n",
      "28/28 [==============================] - 0s 13ms/step - batch: 13.5000 - size: 98.5714 - loss: 4291.6842 - Grad__43_loss: 0.0791 - mul_19_loss: 0.1171 - P_loss: 4291.4384 - sub_11_loss: 3.0666e-05 - sub_13_loss: 9.9603e-06 - add_20_loss: 7.4495e-05 - mul_26_loss: 0.0000e+00 - lr: 0.0010 - time: 0.4670 - mu: 0.3914 - lambda: 0.3489\n",
      "Epoch 41/100\n",
      "28/28 [==============================] - 0s 12ms/step - batch: 13.5000 - size: 98.5714 - loss: 4243.5883 - Grad__43_loss: 0.0790 - mul_19_loss: 0.1167 - P_loss: 4243.3442 - sub_11_loss: 3.7936e-05 - sub_13_loss: 1.9886e-05 - add_20_loss: 4.0759e-05 - mul_26_loss: 0.0000e+00 - lr: 0.0010 - time: 0.4047 - mu: 0.3920 - lambda: 0.3472\n",
      "Epoch 42/100\n",
      "28/28 [==============================] - 0s 13ms/step - batch: 13.5000 - size: 98.5714 - loss: 4194.3728 - Grad__43_loss: 0.0791 - mul_19_loss: 0.1167 - P_loss: 4194.0642 - sub_11_loss: 4.2272e-05 - sub_13_loss: 7.1998e-05 - add_20_loss: 7.0835e-05 - mul_26_loss: 0.0000e+00 - lr: 0.0010 - time: 0.4727 - mu: 0.3920 - lambda: 0.3437\n",
      "Epoch 43/100\n",
      "28/28 [==============================] - 0s 13ms/step - batch: 13.5000 - size: 98.5714 - loss: 4147.0930 - Grad__43_loss: 0.0790 - mul_19_loss: 0.1165 - P_loss: 4146.7611 - sub_11_loss: 9.1859e-05 - sub_13_loss: 2.9226e-05 - add_20_loss: 1.6617e-04 - mul_26_loss: 0.0000e+00 - lr: 0.0010 - time: 0.4589 - mu: 0.3912 - lambda: 0.3410\n",
      "Epoch 44/100\n",
      "28/28 [==============================] - 0s 12ms/step - batch: 13.5000 - size: 98.5714 - loss: 4105.6057 - Grad__43_loss: 0.0797 - mul_19_loss: 0.1171 - P_loss: 4105.4393 - sub_11_loss: 7.9494e-05 - sub_13_loss: 3.5390e-05 - add_20_loss: 1.1174e-04 - mul_26_loss: 0.0000e+00 - lr: 0.0010 - time: 0.3754 - mu: 0.3930 - lambda: 0.3328\n",
      "Epoch 45/100\n",
      "28/28 [==============================] - 0s 12ms/step - batch: 13.5000 - size: 98.5714 - loss: 4046.7100 - Grad__43_loss: 0.0792 - mul_19_loss: 0.1163 - P_loss: 4046.0567 - sub_11_loss: 4.1252e-05 - sub_13_loss: 3.1810e-05 - add_20_loss: 8.2812e-05 - mul_26_loss: 0.0000e+00 - lr: 0.0010 - time: 0.4239 - mu: 0.3958 - lambda: 0.3262\n",
      "Epoch 46/100\n",
      "28/28 [==============================] - 0s 12ms/step - batch: 13.5000 - size: 98.5714 - loss: 4006.5904 - Grad__43_loss: 0.0794 - mul_19_loss: 0.1164 - P_loss: 4006.0900 - sub_11_loss: 7.3651e-05 - sub_13_loss: 1.3524e-05 - add_20_loss: 9.8779e-05 - mul_26_loss: 0.0000e+00 - lr: 0.0010 - time: 0.4323 - mu: 0.3945 - lambda: 0.3249\n",
      "Epoch 47/100\n",
      "28/28 [==============================] - 0s 13ms/step - batch: 13.5000 - size: 98.5714 - loss: 3965.3349 - Grad__43_loss: 0.0792 - mul_19_loss: 0.1167 - P_loss: 3964.9377 - sub_11_loss: 4.6445e-05 - sub_13_loss: 2.0169e-05 - add_20_loss: 3.3396e-04 - mul_26_loss: 0.0000e+00 - lr: 0.0010 - time: 0.4630 - mu: 0.3957 - lambda: 0.3174\n",
      "Epoch 48/100\n",
      "28/28 [==============================] - 0s 12ms/step - batch: 13.5000 - size: 98.5714 - loss: 3936.4780 - Grad__43_loss: 0.0797 - mul_19_loss: 0.1174 - P_loss: 3936.5758 - sub_11_loss: 5.0112e-05 - sub_13_loss: 9.6971e-06 - add_20_loss: 1.1613e-05 - mul_26_loss: 0.0000e+00 - lr: 0.0010 - time: 0.4506 - mu: 0.3972 - lambda: 0.3158\n",
      "Epoch 49/100\n",
      "28/28 [==============================] - 0s 12ms/step - batch: 13.5000 - size: 98.5714 - loss: 3882.1037 - Grad__43_loss: 0.0792 - mul_19_loss: 0.1167 - P_loss: 3881.7847 - sub_11_loss: 1.2234e-05 - sub_13_loss: 9.5638e-06 - add_20_loss: 2.2193e-05 - mul_26_loss: 0.0000e+00 - lr: 0.0010 - time: 0.4282 - mu: 0.3975 - lambda: 0.3146\n",
      "Epoch 50/100\n",
      "28/28 [==============================] - 0s 12ms/step - batch: 13.5000 - size: 98.5714 - loss: 3839.6860 - Grad__43_loss: 0.0792 - mul_19_loss: 0.1163 - P_loss: 3839.3541 - sub_11_loss: 2.2255e-05 - sub_13_loss: 1.3334e-05 - add_20_loss: 4.8878e-05 - mul_26_loss: 0.0000e+00 - lr: 0.0010 - time: 0.4176 - mu: 0.3975 - lambda: 0.3124\n",
      "Epoch 51/100\n",
      "28/28 [==============================] - 0s 12ms/step - batch: 13.5000 - size: 98.5714 - loss: 3799.1198 - Grad__43_loss: 0.0792 - mul_19_loss: 0.1163 - P_loss: 3798.7991 - sub_11_loss: 4.3937e-05 - sub_13_loss: 1.3205e-05 - add_20_loss: 5.8372e-05 - mul_26_loss: 0.0000e+00 - lr: 0.0010 - time: 0.4303 - mu: 0.3985 - lambda: 0.3074\n",
      "Epoch 52/100\n",
      "28/28 [==============================] - 0s 12ms/step - batch: 13.5000 - size: 98.5714 - loss: 3759.5104 - Grad__43_loss: 0.0793 - mul_19_loss: 0.1165 - P_loss: 3759.2283 - sub_11_loss: 1.6594e-04 - sub_13_loss: 1.0081e-04 - add_20_loss: 2.7629e-04 - mul_26_loss: 0.0000e+00 - lr: 0.0010 - time: 0.4297 - mu: 0.4046 - lambda: 0.2873\n",
      "Epoch 53/100\n",
      "28/28 [==============================] - 0s 12ms/step - batch: 13.5000 - size: 98.5714 - loss: 3712.7522 - Grad__43_loss: 0.0791 - mul_19_loss: 0.1165 - P_loss: 3712.2219 - sub_11_loss: 2.6857e-05 - sub_13_loss: 9.9506e-06 - add_20_loss: 3.7627e-05 - mul_26_loss: 0.0000e+00 - lr: 0.0010 - time: 0.4389 - mu: 0.4064 - lambda: 0.2820\n",
      "Epoch 54/100\n",
      "28/28 [==============================] - 0s 14ms/step - batch: 13.5000 - size: 98.5714 - loss: 3681.7539 - Grad__43_loss: 0.0790 - mul_19_loss: 0.1170 - P_loss: 3681.5113 - sub_11_loss: 9.5677e-05 - sub_13_loss: 2.5457e-05 - add_20_loss: 1.2087e-04 - mul_26_loss: 0.0000e+00 - lr: 0.0010 - time: 0.4890 - mu: 0.4068 - lambda: 0.2789\n",
      "Epoch 55/100\n",
      "28/28 [==============================] - 0s 14ms/step - batch: 13.5000 - size: 98.5714 - loss: 3638.9131 - Grad__43_loss: 0.0794 - mul_19_loss: 0.1165 - P_loss: 3638.5373 - sub_11_loss: 4.5619e-05 - sub_13_loss: 5.2080e-05 - add_20_loss: 1.0433e-04 - mul_26_loss: 0.0000e+00 - lr: 0.0010 - time: 0.4502 - mu: 0.4068 - lambda: 0.2723\n",
      "Epoch 56/100\n",
      "28/28 [==============================] - 0s 13ms/step - batch: 13.5000 - size: 98.5714 - loss: 3606.4847 - Grad__43_loss: 0.0792 - mul_19_loss: 0.1163 - P_loss: 3606.2952 - sub_11_loss: 1.8955e-05 - sub_13_loss: 1.8182e-05 - add_20_loss: 3.8407e-05 - mul_26_loss: 0.0000e+00 - lr: 0.0010 - time: 0.4730 - mu: 0.4062 - lambda: 0.2668\n",
      "Epoch 57/100\n",
      "28/28 [==============================] - 0s 14ms/step - batch: 13.5000 - size: 98.5714 - loss: 3562.0222 - Grad__43_loss: 0.0790 - mul_19_loss: 0.1160 - P_loss: 3561.5823 - sub_11_loss: 6.6715e-05 - sub_13_loss: 4.6653e-05 - add_20_loss: 8.7507e-05 - mul_26_loss: 0.0000e+00 - lr: 0.0010 - time: 0.4811 - mu: 0.4042 - lambda: 0.2618\n",
      "Epoch 58/100\n",
      "28/28 [==============================] - 0s 13ms/step - batch: 13.5000 - size: 98.5714 - loss: 3531.3143 - Grad__43_loss: 0.0791 - mul_19_loss: 0.1167 - P_loss: 3531.0881 - sub_11_loss: 5.2957e-05 - sub_13_loss: 6.5808e-05 - add_20_loss: 9.4641e-05 - mul_26_loss: 0.0000e+00 - lr: 0.0010 - time: 0.4622 - mu: 0.4028 - lambda: 0.2564\n",
      "Epoch 59/100\n",
      "28/28 [==============================] - 0s 14ms/step - batch: 13.5000 - size: 98.5714 - loss: 3495.6644 - Grad__43_loss: 0.0796 - mul_19_loss: 0.1161 - P_loss: 3495.4526 - sub_11_loss: 7.4604e-05 - sub_13_loss: 1.0124e-04 - add_20_loss: 1.4789e-04 - mul_26_loss: 0.0000e+00 - lr: 0.0010 - time: 0.4718 - mu: 0.4083 - lambda: 0.2363\n",
      "Epoch 60/100\n",
      "28/28 [==============================] - 0s 13ms/step - batch: 13.5000 - size: 98.5714 - loss: 3452.3580 - Grad__43_loss: 0.0791 - mul_19_loss: 0.1162 - P_loss: 3451.8691 - sub_11_loss: 1.0923e-05 - sub_13_loss: 9.4216e-06 - add_20_loss: 2.3235e-05 - mul_26_loss: 0.0000e+00 - lr: 0.0010 - time: 0.4726 - mu: 0.4096 - lambda: 0.2345\n",
      "Epoch 61/100\n",
      "28/28 [==============================] - 0s 12ms/step - batch: 13.5000 - size: 98.5714 - loss: 3428.9155 - Grad__43_loss: 0.0792 - mul_19_loss: 0.1161 - P_loss: 3428.8276 - sub_11_loss: 4.7376e-05 - sub_13_loss: 9.4080e-05 - add_20_loss: 1.3326e-04 - mul_26_loss: 0.0000e+00 - lr: 0.0010 - time: 0.4338 - mu: 0.4153 - lambda: 0.2317\n",
      "Epoch 62/100\n",
      "28/28 [==============================] - 0s 13ms/step - batch: 13.5000 - size: 98.5714 - loss: 3389.3177 - Grad__43_loss: 0.0790 - mul_19_loss: 0.1162 - P_loss: 3389.0425 - sub_11_loss: 7.2321e-05 - sub_13_loss: 4.3432e-05 - add_20_loss: 6.2408e-05 - mul_26_loss: 0.0000e+00 - lr: 0.0010 - time: 0.4583 - mu: 0.4212 - lambda: 0.2247\n",
      "Epoch 63/100\n",
      "28/28 [==============================] - 0s 13ms/step - batch: 13.5000 - size: 98.5714 - loss: 3367.5841 - Grad__43_loss: 0.0801 - mul_19_loss: 0.1175 - P_loss: 3367.7356 - sub_11_loss: 4.7360e-05 - sub_13_loss: 2.4249e-05 - add_20_loss: 7.8393e-05 - mul_26_loss: 0.0000e+00 - lr: 0.0010 - time: 0.4492 - mu: 0.4212 - lambda: 0.2218\n",
      "Epoch 64/100\n",
      "28/28 [==============================] - 0s 13ms/step - batch: 13.5000 - size: 98.5714 - loss: 3314.3928 - Grad__43_loss: 0.0791 - mul_19_loss: 0.1164 - P_loss: 3313.8302 - sub_11_loss: 7.1246e-04 - sub_13_loss: 6.9119e-04 - add_20_loss: 6.8590e-04 - mul_26_loss: 0.0000e+00 - lr: 0.0010 - time: 0.4487 - mu: 0.4012 - lambda: 0.1965\n",
      "Epoch 65/100\n",
      "28/28 [==============================] - 0s 13ms/step - batch: 13.5000 - size: 98.5714 - loss: 3279.9955 - Grad__43_loss: 0.0795 - mul_19_loss: 0.1169 - P_loss: 3279.3642 - sub_11_loss: 1.0351e-05 - sub_13_loss: 2.9742e-05 - add_20_loss: 3.3568e-05 - mul_26_loss: 0.0000e+00 - lr: 0.0010 - time: 0.4315 - mu: 0.3982 - lambda: 0.1927\n",
      "Epoch 66/100\n",
      "28/28 [==============================] - 0s 12ms/step - batch: 13.5000 - size: 98.5714 - loss: 3251.6757 - Grad__43_loss: 0.0791 - mul_19_loss: 0.1165 - P_loss: 3251.1882 - sub_11_loss: 4.7607e-05 - sub_13_loss: 4.9329e-05 - add_20_loss: 7.0295e-05 - mul_26_loss: 0.0000e+00 - lr: 0.0010 - time: 0.4398 - mu: 0.3973 - lambda: 0.1915\n",
      "Epoch 67/100\n",
      "28/28 [==============================] - 0s 13ms/step - batch: 13.5000 - size: 98.5714 - loss: 3220.0170 - Grad__43_loss: 0.0791 - mul_19_loss: 0.1170 - P_loss: 3219.5204 - sub_11_loss: 4.0073e-05 - sub_13_loss: 2.6085e-05 - add_20_loss: 7.0263e-05 - mul_26_loss: 0.0000e+00 - lr: 0.0010 - time: 0.4570 - mu: 0.3964 - lambda: 0.1902\n",
      "Epoch 68/100\n",
      "28/28 [==============================] - 0s 13ms/step - batch: 13.5000 - size: 98.5714 - loss: 3198.7449 - Grad__43_loss: 0.0795 - mul_19_loss: 0.1168 - P_loss: 3198.5898 - sub_11_loss: 9.9646e-06 - sub_13_loss: 4.1965e-06 - add_20_loss: 1.7618e-05 - mul_26_loss: 0.0000e+00 - lr: 0.0010 - time: 0.4309 - mu: 0.3963 - lambda: 0.1897\n",
      "Epoch 69/100\n",
      "28/28 [==============================] - 0s 12ms/step - batch: 13.5000 - size: 98.5714 - loss: 3165.9362 - Grad__43_loss: 0.0794 - mul_19_loss: 0.1168 - P_loss: 3165.6822 - sub_11_loss: 2.4104e-05 - sub_13_loss: 7.2230e-06 - add_20_loss: 4.6118e-05 - mul_26_loss: 0.0000e+00 - lr: 0.0010 - time: 0.4242 - mu: 0.3964 - lambda: 0.1894\n",
      "Epoch 70/100\n",
      "28/28 [==============================] - 0s 14ms/step - batch: 13.5000 - size: 98.5714 - loss: 3145.8080 - Grad__43_loss: 0.0792 - mul_19_loss: 0.1173 - P_loss: 3145.9140 - sub_11_loss: 1.9946e-05 - sub_13_loss: 2.8377e-05 - add_20_loss: 4.0402e-05 - mul_26_loss: 0.0000e+00 - lr: 0.0010 - time: 0.4819 - mu: 0.3963 - lambda: 0.1889\n",
      "Epoch 71/100\n",
      "28/28 [==============================] - 0s 12ms/step - batch: 13.5000 - size: 98.5714 - loss: 3112.6250 - Grad__43_loss: 0.0795 - mul_19_loss: 0.1172 - P_loss: 3112.5872 - sub_11_loss: 3.0244e-05 - sub_13_loss: 1.9926e-05 - add_20_loss: 5.6123e-05 - mul_26_loss: 0.0000e+00 - lr: 0.0010 - time: 0.4355 - mu: 0.3967 - lambda: 0.1881\n",
      "Epoch 72/100\n",
      "28/28 [==============================] - 0s 12ms/step - batch: 13.5000 - size: 98.5714 - loss: 3080.9246 - Grad__43_loss: 0.0793 - mul_19_loss: 0.1170 - P_loss: 3080.7971 - sub_11_loss: 2.2142e-05 - sub_13_loss: 7.8359e-06 - add_20_loss: 5.8676e-05 - mul_26_loss: 0.0000e+00 - lr: 0.0010 - time: 0.4468 - mu: 0.3988 - lambda: 0.1866\n",
      "Epoch 73/100\n",
      "28/28 [==============================] - 0s 13ms/step - batch: 13.5000 - size: 98.5714 - loss: 3058.8308 - Grad__43_loss: 0.0795 - mul_19_loss: 0.1174 - P_loss: 3058.9091 - sub_11_loss: 3.2751e-05 - sub_13_loss: 1.2356e-05 - add_20_loss: 6.7309e-05 - mul_26_loss: 0.0000e+00 - lr: 0.0010 - time: 0.4697 - mu: 0.3999 - lambda: 0.1858\n",
      "Epoch 74/100\n",
      "28/28 [==============================] - 0s 13ms/step - batch: 13.5000 - size: 98.5714 - loss: 3026.9494 - Grad__43_loss: 0.0794 - mul_19_loss: 0.1169 - P_loss: 3026.8951 - sub_11_loss: 1.8461e-05 - sub_13_loss: 1.2379e-05 - add_20_loss: 4.7081e-05 - mul_26_loss: 0.0000e+00 - lr: 0.0010 - time: 0.4375 - mu: 0.4005 - lambda: 0.1850\n",
      "Epoch 75/100\n",
      "28/28 [==============================] - 0s 14ms/step - batch: 13.5000 - size: 98.5714 - loss: 2995.2324 - Grad__43_loss: 0.0790 - mul_19_loss: 0.1169 - P_loss: 2995.0235 - sub_11_loss: 1.4037e-04 - sub_13_loss: 1.4472e-04 - add_20_loss: 1.4906e-04 - mul_26_loss: 0.0000e+00 - lr: 0.0010 - time: 0.4662 - mu: 0.3981 - lambda: 0.1813\n",
      "Epoch 76/100\n",
      "28/28 [==============================] - 0s 12ms/step - batch: 13.5000 - size: 98.5714 - loss: 2966.2674 - Grad__43_loss: 0.0792 - mul_19_loss: 0.1165 - P_loss: 2965.9750 - sub_11_loss: 6.4182e-05 - sub_13_loss: 4.4731e-05 - add_20_loss: 8.4282e-05 - mul_26_loss: 0.0000e+00 - lr: 0.0010 - time: 0.4381 - mu: 0.3941 - lambda: 0.1768\n",
      "Epoch 77/100\n",
      "28/28 [==============================] - 0s 13ms/step - batch: 13.5000 - size: 98.5714 - loss: 2935.9214 - Grad__43_loss: 0.0791 - mul_19_loss: 0.1170 - P_loss: 2935.4769 - sub_11_loss: 5.4563e-05 - sub_13_loss: 5.3837e-05 - add_20_loss: 5.9833e-05 - mul_26_loss: 0.0000e+00 - lr: 0.0010 - time: 0.4456 - mu: 0.3908 - lambda: 0.1736\n",
      "Epoch 78/100\n",
      "28/28 [==============================] - 0s 13ms/step - batch: 13.5000 - size: 98.5714 - loss: 2914.0976 - Grad__43_loss: 0.0790 - mul_19_loss: 0.1168 - P_loss: 2913.7849 - sub_11_loss: 5.9321e-05 - sub_13_loss: 8.3044e-05 - add_20_loss: 1.1716e-04 - mul_26_loss: 0.0000e+00 - lr: 0.0010 - time: 0.4581 - mu: 0.3893 - lambda: 0.1718\n",
      "Epoch 79/100\n",
      "28/28 [==============================] - 0s 12ms/step - batch: 13.5000 - size: 98.5714 - loss: 2889.5636 - Grad__43_loss: 0.0790 - mul_19_loss: 0.1164 - P_loss: 2889.2842 - sub_11_loss: 1.8319e-05 - sub_13_loss: 1.9588e-05 - add_20_loss: 3.5444e-05 - mul_26_loss: 0.0000e+00 - lr: 0.0010 - time: 0.4422 - mu: 0.3891 - lambda: 0.1706\n",
      "Epoch 80/100\n",
      "28/28 [==============================] - 0s 13ms/step - batch: 13.5000 - size: 98.5714 - loss: 2871.8083 - Grad__43_loss: 0.0793 - mul_19_loss: 0.1164 - P_loss: 2871.7830 - sub_11_loss: 2.8919e-05 - sub_13_loss: 3.6499e-05 - add_20_loss: 4.3984e-05 - mul_26_loss: 0.0000e+00 - lr: 0.0010 - time: 0.4591 - mu: 0.3888 - lambda: 0.1686\n",
      "Epoch 81/100\n",
      "28/28 [==============================] - 0s 13ms/step - batch: 13.5000 - size: 98.5714 - loss: 2850.5940 - Grad__43_loss: 0.0789 - mul_19_loss: 0.1165 - P_loss: 2850.6746 - sub_11_loss: 6.1389e-05 - sub_13_loss: 4.4835e-05 - add_20_loss: 9.1732e-05 - mul_26_loss: 0.0000e+00 - lr: 0.0010 - time: 0.4448 - mu: 0.3908 - lambda: 0.1668\n",
      "Epoch 82/100\n",
      "28/28 [==============================] - 0s 13ms/step - batch: 13.5000 - size: 98.5714 - loss: 2812.2922 - Grad__43_loss: 0.0786 - mul_19_loss: 0.1166 - P_loss: 2811.8544 - sub_11_loss: 1.0088e-04 - sub_13_loss: 1.1396e-04 - add_20_loss: 1.5030e-04 - mul_26_loss: 0.0000e+00 - lr: 0.0010 - time: 0.4808 - mu: 0.3856 - lambda: 0.1617\n",
      "Epoch 83/100\n",
      "28/28 [==============================] - 0s 13ms/step - batch: 13.5000 - size: 98.5714 - loss: 2794.7287 - Grad__43_loss: 0.0790 - mul_19_loss: 0.1164 - P_loss: 2794.4987 - sub_11_loss: 1.5891e-05 - sub_13_loss: 1.8174e-05 - add_20_loss: 2.6246e-05 - mul_26_loss: 0.0000e+00 - lr: 0.0010 - time: 0.4338 - mu: 0.3834 - lambda: 0.1593\n",
      "Epoch 84/100\n",
      "28/28 [==============================] - 0s 13ms/step - batch: 13.5000 - size: 98.5714 - loss: 2780.5496 - Grad__43_loss: 0.0800 - mul_19_loss: 0.1172 - P_loss: 2780.6319 - sub_11_loss: 1.3995e-05 - sub_13_loss: 3.2834e-05 - add_20_loss: 3.5837e-05 - mul_26_loss: 0.0000e+00 - lr: 0.0010 - time: 0.4371 - mu: 0.3837 - lambda: 0.1590\n",
      "Epoch 85/100\n",
      "28/28 [==============================] - 0s 15ms/step - batch: 13.5000 - size: 98.5714 - loss: 2746.5089 - Grad__43_loss: 0.0795 - mul_19_loss: 0.1179 - P_loss: 2746.1779 - sub_11_loss: 7.4373e-05 - sub_13_loss: 4.4104e-04 - add_20_loss: 1.2892e-04 - mul_26_loss: 0.0000e+00 - lr: 0.0010 - time: 0.4907 - mu: 0.3900 - lambda: 0.1615\n",
      "Epoch 86/100\n",
      "28/28 [==============================] - 0s 12ms/step - batch: 13.5000 - size: 98.5714 - loss: 2735.7036 - Grad__43_loss: 0.0795 - mul_19_loss: 0.1173 - P_loss: 2735.7643 - sub_11_loss: 4.1004e-05 - sub_13_loss: 3.4365e-05 - add_20_loss: 5.3445e-05 - mul_26_loss: 0.0000e+00 - lr: 0.0010 - time: 0.4194 - mu: 0.3893 - lambda: 0.1602\n",
      "Epoch 87/100\n",
      "28/28 [==============================] - 0s 12ms/step - batch: 13.5000 - size: 98.5714 - loss: 2708.9935 - Grad__43_loss: 0.0794 - mul_19_loss: 0.1166 - P_loss: 2708.8777 - sub_11_loss: 1.5739e-04 - sub_13_loss: 1.8395e-04 - add_20_loss: 1.4065e-04 - mul_26_loss: 0.0000e+00 - lr: 0.0010 - time: 0.4268 - mu: 0.3834 - lambda: 0.1546\n",
      "Epoch 88/100\n",
      "28/28 [==============================] - 0s 13ms/step - batch: 13.5000 - size: 98.5714 - loss: 2680.9976 - Grad__43_loss: 0.0795 - mul_19_loss: 0.1164 - P_loss: 2680.6324 - sub_11_loss: 4.6855e-06 - sub_13_loss: 3.6484e-06 - add_20_loss: 9.3756e-06 - mul_26_loss: 0.0000e+00 - lr: 0.0010 - time: 0.4581 - mu: 0.3785 - lambda: 0.1501\n",
      "Epoch 89/100\n",
      "28/28 [==============================] - 0s 13ms/step - batch: 13.5000 - size: 98.5714 - loss: 2668.9177 - Grad__43_loss: 0.0794 - mul_19_loss: 0.1177 - P_loss: 2668.8453 - sub_11_loss: 5.0274e-06 - sub_13_loss: 1.7016e-05 - add_20_loss: 1.7977e-05 - mul_26_loss: 0.0000e+00 - lr: 0.0010 - time: 0.4419 - mu: 0.3783 - lambda: 0.1496\n",
      "Epoch 90/100\n",
      "28/28 [==============================] - 0s 14ms/step - batch: 13.5000 - size: 98.5714 - loss: 2646.0573 - Grad__43_loss: 0.0796 - mul_19_loss: 0.1168 - P_loss: 2645.8995 - sub_11_loss: 1.4068e-05 - sub_13_loss: 1.5998e-05 - add_20_loss: 4.4408e-05 - mul_26_loss: 0.0000e+00 - lr: 0.0010 - time: 0.4774 - mu: 0.3791 - lambda: 0.1491\n",
      "Epoch 91/100\n",
      "28/28 [==============================] - 0s 12ms/step - batch: 13.5000 - size: 98.5714 - loss: 2624.0525 - Grad__43_loss: 0.0794 - mul_19_loss: 0.1168 - P_loss: 2623.8126 - sub_11_loss: 8.3586e-06 - sub_13_loss: 3.1950e-05 - add_20_loss: 2.9186e-05 - mul_26_loss: 0.0000e+00 - lr: 0.0010 - time: 0.4342 - mu: 0.3786 - lambda: 0.1487\n",
      "Epoch 92/100\n",
      "28/28 [==============================] - 0s 13ms/step - batch: 13.5000 - size: 98.5714 - loss: 2610.2601 - Grad__43_loss: 0.0797 - mul_19_loss: 0.1164 - P_loss: 2610.2170 - sub_11_loss: 7.9663e-06 - sub_13_loss: 7.7253e-06 - add_20_loss: 1.4464e-05 - mul_26_loss: 0.0000e+00 - lr: 0.0010 - time: 0.4733 - mu: 0.3782 - lambda: 0.1485\n",
      "Epoch 93/100\n",
      "28/28 [==============================] - 0s 13ms/step - batch: 13.5000 - size: 98.5714 - loss: 2591.3888 - Grad__43_loss: 0.0796 - mul_19_loss: 0.1168 - P_loss: 2591.3556 - sub_11_loss: 1.2432e-05 - sub_13_loss: 1.1123e-04 - add_20_loss: 7.0071e-05 - mul_26_loss: 0.0000e+00 - lr: 0.0010 - time: 0.4479 - mu: 0.3765 - lambda: 0.1479\n",
      "Epoch 94/100\n",
      "28/28 [==============================] - 0s 13ms/step - batch: 13.5000 - size: 98.5714 - loss: 2566.8913 - Grad__43_loss: 0.0797 - mul_19_loss: 0.1167 - P_loss: 2566.6390 - sub_11_loss: 5.9531e-06 - sub_13_loss: 5.4236e-06 - add_20_loss: 1.8072e-05 - mul_26_loss: 0.0000e+00 - lr: 0.0010 - time: 0.4484 - mu: 0.3754 - lambda: 0.1476\n",
      "Epoch 95/100\n",
      "28/28 [==============================] - 0s 13ms/step - batch: 13.5000 - size: 98.5714 - loss: 2548.7697 - Grad__43_loss: 0.0792 - mul_19_loss: 0.1168 - P_loss: 2548.5189 - sub_11_loss: 2.4539e-05 - sub_13_loss: 1.4570e-05 - add_20_loss: 7.5409e-05 - mul_26_loss: 0.0000e+00 - lr: 0.0010 - time: 0.4545 - mu: 0.3749 - lambda: 0.1469\n",
      "Epoch 96/100\n",
      "28/28 [==============================] - 0s 13ms/step - batch: 13.5000 - size: 98.5714 - loss: 2531.3507 - Grad__43_loss: 0.0794 - mul_19_loss: 0.1172 - P_loss: 2531.1032 - sub_11_loss: 2.5344e-05 - sub_13_loss: 2.2116e-05 - add_20_loss: 7.6836e-05 - mul_26_loss: 0.0000e+00 - lr: 0.0010 - time: 0.4336 - mu: 0.3759 - lambda: 0.1455\n",
      "Epoch 97/100\n",
      "28/28 [==============================] - 0s 12ms/step - batch: 13.5000 - size: 98.5714 - loss: 2517.8573 - Grad__43_loss: 0.0794 - mul_19_loss: 0.1167 - P_loss: 2517.7494 - sub_11_loss: 1.8309e-05 - sub_13_loss: 2.6185e-05 - add_20_loss: 4.5542e-05 - mul_26_loss: 0.0000e+00 - lr: 0.0010 - time: 0.4385 - mu: 0.3730 - lambda: 0.1435\n",
      "Epoch 98/100\n",
      "28/28 [==============================] - 0s 12ms/step - batch: 13.5000 - size: 98.5714 - loss: 2495.2427 - Grad__43_loss: 0.0792 - mul_19_loss: 0.1171 - P_loss: 2494.9329 - sub_11_loss: 2.3723e-05 - sub_13_loss: 2.8164e-05 - add_20_loss: 5.9799e-05 - mul_26_loss: 0.0000e+00 - lr: 0.0010 - time: 0.4284 - mu: 0.3701 - lambda: 0.1426\n",
      "Epoch 99/100\n",
      "28/28 [==============================] - 0s 13ms/step - batch: 13.5000 - size: 98.5714 - loss: 2489.2472 - Grad__43_loss: 0.0795 - mul_19_loss: 0.1169 - P_loss: 2489.3207 - sub_11_loss: 7.9980e-06 - sub_13_loss: 4.5560e-06 - add_20_loss: 1.1909e-05 - mul_26_loss: 0.0000e+00 - lr: 0.0010 - time: 0.4535 - mu: 0.3696 - lambda: 0.1422\n",
      "Epoch 100/100\n",
      "28/28 [==============================] - 0s 12ms/step - batch: 13.5000 - size: 98.5714 - loss: 2465.3500 - Grad__43_loss: 0.0793 - mul_19_loss: 0.1171 - P_loss: 2465.1486 - sub_11_loss: 1.0657e-05 - sub_13_loss: 3.3721e-05 - add_20_loss: 1.4473e-05 - mul_26_loss: 0.0000e+00 - lr: 0.0010 - time: 0.4441 - mu: 0.3645 - lambda: 0.1422\n",
      "mu: [0.36445153],  lamb: [0.14221303]\n",
      "mu: [0.36445153],  lamb: [0.14221303]\n",
      "loss: [7642.141359766141, 7204.863488588479, 6906.491256551232, 6733.383593274985, 6612.498251799937, 6509.3386872239735, 6414.862086649928, 6326.027593842005, 6241.418393216637, 6158.373680421089, 6078.606948867144, 6000.936742311355, 5924.387885641041, 5850.576311488181, 5777.358033486923, 5705.356263037642, 5634.65474573961, 5565.601197724379, 5497.516956800569, 5431.183126391218, 5364.766388696036, 5300.0387010334625, 5236.839628682259, 5174.082707803757, 5112.207032756108, 5051.883561927045, 4992.342538109311, 4933.147975127986, 4875.671063591875, 4818.742437212538, 4761.847342135917, 4706.768266557087, 4652.24568688886, 4598.4489915404665, 4545.45904685093, 4493.605826730021, 4441.9007230493435, 4392.21982155999, 4342.043518752889, 4293.065873676233, 4244.938745153033, 4197.526152808775, 4150.903254028097, 4104.748123089019, 4059.522464334315, 4015.113672191482, 3970.960058027987, 3928.2177502926897, 3885.5472343260185, 3843.501680397048, 3802.619056674303, 3761.9118489467446, 3722.124220982215, 3683.0525341318767, 3643.944769314337, 3606.3133387987427, 3568.872875062131, 3532.1575933126414, 3496.1016825287325, 3460.57606879014, 3425.9005247026184, 3391.5516101013095, 3357.8069453107705, 3324.615870639144, 3292.17358841855, 3259.8444941764915, 3228.4249565784658, 3197.5879772760077, 3167.5541828041573, 3137.335347371174, 3108.17375905298, 3078.991841656562, 3051.1244161939503, 3022.968990512529, 2995.5851369554566, 2968.9711111911915, 2942.8698033535884, 2917.3641315371333, 2891.913207376841, 2867.0362510184686, 2842.859303598803, 2819.076654465123, 2795.6966805341426, 2772.7196083478584, 2750.232812569624, 2728.4908206800437, 2706.7338895693497, 2685.738538888856, 2665.4277376149817, 2644.971199777009, 2625.27281707842, 2605.97485564029, 2586.8131790329935, 2568.456028155128, 2550.3016472051495, 2532.7706500231006, 2515.3846121341576, 2498.41943873225, 2481.6890022538346, 2465.4867663129085]\n"
     ]
    },
    {
     "data": {
      "image/png": "[encoded data removed]",
      "text/plain": [
       "<Figure size 432x288 with 1 Axes>"
      ]
     },
     "metadata": {
      "needs_background": "light"
     },
     "output_type": "display_data"
    }
   ],
   "source": [
    "# Setting up cost function\n",
    "layers = 8\n",
    "neurons = 20\n",
    "\n",
    "x = sn.Variable(\"x\", dtype='float64')\n",
    "y = sn.Variable(\"y\", dtype='float64')\n",
    "t = sn.Variable(\"t\", dtype='float64')\n",
    "\n",
    "P = sn.Functional(\"P\", [x, y, t], layers*[neurons], 'tanh') # HMMMMM?\n",
    "Psi = sn.Functional(\"Psi\", [x, y, t], layers*[neurons], 'tanh') # HMMMMM?\n",
    "\n",
    "'''\n",
    "Abaqus takes E and nu\n",
    "The Navier form of equations takes mu and lambda\n",
    "\n",
    "E = [mu*(3*lambda + 2*mu)] / [lambda + mu]\n",
    "nu = lambda / [2*(lambda + mu)]\n",
    "\n",
    "mu = E / [2*(1 + nu)]\n",
    "lambda = [nu*E] / [(1 + nu)*(1 - 2*nu)]\n",
    "\n",
    "Inputs values:\n",
    "E  = 210 GPa\n",
    "nu = 0.3\n",
    "\n",
    "Expected values:\n",
    "mu     =  63.636363 GPa\n",
    "lambda = 121.154385 GPa\n",
    "'''\n",
    "\n",
    "mu = sn.Parameter(np.random.rand(), inputs=[x,y,t], name=\"mu\")\n",
    "lamb = sn.Parameter(np.random.rand(), inputs=[x,y,t], name=\"lambda\")\n",
    "\n",
    "# lets hope this functional works lol, define u and v\n",
    "u = sn.diff(Psi, y)\n",
    "v = -sn.diff(Psi, x)\n",
    "\n",
    "# partials\n",
    "u_t = sn.diff(u, t)\n",
    "u_x = sn.diff(u, x)\n",
    "u_y = sn.diff(u, y)\n",
    "u_tt = sn.diff(u, t, order=2)\n",
    "u_xx = sn.diff(u, x, order=2)\n",
    "u_yy = sn.diff(u, y, order=2)\n",
    "u_xy = sn.diff(u_x, y)\n",
    "\n",
    "v_t = sn.diff(v, t)\n",
    "v_x = sn.diff(v, x)\n",
    "v_y = sn.diff(v, y)\n",
    "v_tt = sn.diff(v, t, order=2)\n",
    "v_xx = sn.diff(v, x, order=2)\n",
    "v_yy = sn.diff(v, y, order=2)\n",
    "v_xy = sn.diff(v_x, y)\n",
    "\n",
    "p_x = sn.diff(P, x)   # recyled, shouldn't be this way lol\n",
    "p_y = sn.diff(P, y)   # recyled, shouldn't be this way lol\n",
    "\n",
    "# define constraints\n",
    "d1 = sn.Data(u)\n",
    "d2 = sn.Data(v)\n",
    "d3 = sn.Data(P) # HMMMMM?\n",
    "\n",
    "#rho = 1.0\n",
    "c1 = sn.Tie(p_x,mu*u_xx + (lamb+mu)*u_xy - u_tt) # f, no way this should work with p_x lol\n",
    "c2 = sn.Tie(p_x,mu*v_yy + (lamb+mu)*v_xy - v_tt) # g, no way this should work with p_y lol\n",
    "c3 = sn.Data(u_yy -((lamb/mu)+1)*u_xy - v_xx + ((lamb/mu)+1)*v_xy) #symmetry constraint\n",
    "\n",
    "c4 = Psi*0.0 # lol lets keep it\n",
    "\n",
    "if mode == 'train':\n",
    "    x_train, y_train, t_train, u_train, v_train, p_train = PrepareData(set, grid, time, random=True)\n",
    "    \n",
    "    model = sn.SciModel(\n",
    "        inputs=[x, y, t],\n",
    "        targets = [d1, d2, d3, c1, c2, c3, c4],\n",
    "        loss_func = \"mse\",\n",
    "        plot_to_file = \"NS-Model.png\"\n",
    "    )\n",
    "    \n",
    "    input_data = [x_train, y_train, t_train]\n",
    "\n",
    "    # like an initial condition for c1, c2, c3, and c4\n",
    "    data_d1 = u_train\n",
    "    data_d2 = v_train\n",
    "    data_d3 = p_train\n",
    "    data_c1 = 'zeros'\n",
    "    data_c2 = 'zeros'\n",
    "    data_c3 = 'zeros'\n",
    "    data_c4 = 'zeros'\n",
    "    target_data = [data_d1, data_d2, data_d3, data_c1, data_c2, data_c3, data_c4]\n",
    "\n",
    "    ## hyper parameter define\n",
    "\n",
    "    Epochs= 100\n",
    "    Batch_size=100\n",
    "    Learning_rate=0.001\n",
    "    Reduce_lr_after=1000\n",
    "    \n",
    "#log the data\n",
    "\n",
    "    log_directory = f'../logs/log_layers{layers}_neurons{neurons}_epochs{Epochs}_batchsize{Batch_size}_learning_rate{Learning_rate}_reduce_lr_after{Reduce_lr_after}'\n",
    "\n",
    "    if not os.path.exists(log_directory):\n",
    "        os.makedirs(log_directory)\n",
    "        print(f'{log_directory} is created!')\n",
    "\n",
    "    ##train PINN\n",
    "\n",
    "    history = model.train(\n",
    "        x_true=input_data,\n",
    "        y_true=target_data,\n",
    "        epochs= Epochs,\n",
    "        batch_size= Batch_size,\n",
    "        shuffle=True,\n",
    "        learning_rate= Learning_rate,\n",
    "        reduce_lr_after= Reduce_lr_after,\n",
    "        stop_loss_value=1e-8,\n",
    "        verbose=1,\n",
    "        log_parameters={'parameters':[mu,lamb],\n",
    "                        'freq':1}\n",
    "    )\n",
    "    \n",
    "    ## logs and plots\n",
    "    model.save_weights('elasticity_train.hdf5')\n",
    "    ## print iterated parameters value\n",
    "    print(\"mu: {},  lamb: {}\".format(mu.value, lamb.value))\n",
    "    with open(f'../logs/log_layers{layers}_neurons{neurons}_epochs{Epochs}_batchsize{Batch_size}_learning_rate{Learning_rate}_reduce_lr_after{Reduce_lr_after}/parameters_{layers}_{neurons}.txt', 'w') as f:\n",
    "        f.write(f\"mu: {mu.value},  lamb: {lamb.value}\")\n",
    "    print(\"mu: {},  lamb: {}\".format(mu.value, lamb.value))\n",
    "    \n",
    "    ## print loss function value\n",
    "    print(\"loss: {}\".format(history.history['loss']))\n",
    "    with open(f'../logs/log_layers{layers}_neurons{neurons}_epochs{Epochs}_batchsize{Batch_size}_learning_rate{Learning_rate}_reduce_lr_after{Reduce_lr_after}/loss_{layers}_{neurons}.txt', 'w') as f:\n",
    "        f.write(f\"loss: {history.history['loss']}\")\n",
    "    ## plot loss function\n",
    "    plt.figure(f'Train_Loss_{layers}_{neurons}')\n",
    "    plt.semilogy(history.history['loss'])\n",
    "    plt.xlabel('epochs')\n",
    "    plt.ylabel('loss')\n",
    "    plt.savefig(f'../logs/log_layers{layers}_neurons{neurons}_epochs{Epochs}_batchsize{Batch_size}_learning_rate{Learning_rate}_reduce_lr_after{Reduce_lr_after}/loss_{layers}_{neurons}.png')\n",
    "    plt.semilogy(history.history['loss'])\n",
    "    plt.xlabel('epochs')\n",
    "    plt.ylabel('loss')"
   ]
  },
  {
   "cell_type": "code",
   "execution_count": 19,
   "id": "a402f13a-adb0-4d01-8fce-36ad8334e07f",
   "metadata": {},
   "outputs": [
    {
     "data": {
      "text/plain": [
       "(2760, 2, 81)"
      ]
     },
     "execution_count": 19,
     "metadata": {},
     "output_type": "execute_result"
    }
   ],
   "source": [
    "\n",
    "\n",
    "np.shape(U_star)\n",
    "U_star = np.moveaxis(U_star, 0, -1)\n",
    "np.shape(U_star)"
   ]
  },
  {
   "cell_type": "code",
   "execution_count": 30,
   "id": "d44741bf-cc20-48bf-841a-520a4f0d2923",
   "metadata": {},
   "outputs": [],
   "source": [
    "#Arrange data for plotting\n",
    "\n",
    "# Load data\n",
    "#data = scipy.io.loadmat(data_file)\n",
    "#p_pred = test_result[2]\n",
    "\n",
    "# Unpacking the .nc file \n",
    "\n",
    "disp_x=set.sel(field='ux').to_array() # T x N # (81, 2760)\n",
    "disp_y=set.sel(field='uy').to_array() # T x N # (81, 2760)\n",
    "U_star=np.dstack([disp_x,disp_y])     # T x N x 2 (81, 2760, 2)\n",
    "U_star = np.moveaxis(U_star, 0, -1)# N x 2 x T\n",
    "\n",
    "P_star = np.asarray(set.sel(field='S22').to_array()).T # N x T\n",
    "t_star = time #data['t'] # T x 1 \n",
    "X_star = grid # grid is N x 2 or shape (2760, 2)\n",
    "    \n",
    "snap = np.array([80])\n",
    "x_star = X_star[:,0:1]\n",
    "y_star = X_star[:,1:2]\n",
    "p_star = P_star[:,snap]\n",
    "#p_test = P_pred[:,snap]\n",
    "# Predict for plotting\n",
    "lb = X_star.min(0)\n",
    "ub = X_star.max(0)\n",
    "nn = 200\n",
    "x = np.linspace(lb[0], ub[0], nn)\n",
    "y = np.linspace(lb[1], ub[1], nn)\n",
    "X, Y = np.meshgrid(x,y)\n",
    "\n",
    "from scipy.interpolate import griddata\n",
    "P_exact = griddata(X_star, p_star.flatten(), (X, Y))\n",
    "\n",
    "#PP_star = griddata(X_star, p_pred.flatten(), (X, Y), method='cubic')"
   ]
  },
  {
   "cell_type": "code",
   "execution_count": 31,
   "id": "39243412-dd3f-4619-8ecc-71cf52e201ca",
   "metadata": {},
   "outputs": [
    {
     "data": {
      "text/plain": [
       "<matplotlib.colorbar.Colorbar at 0x7f0e3a4c5520>"
      ]
     },
     "execution_count": 31,
     "metadata": {},
     "output_type": "execute_result"
    },
    {
     "data": {
      "image/png": "[encoded data removed]",
      "text/plain": [
       "<Figure size 432x288 with 2 Axes>"
      ]
     },
     "metadata": {
      "needs_background": "light"
     },
     "output_type": "display_data"
    }
   ],
   "source": [
    "# Plot \"exact\" pressure field\n",
    "#plt.imshow(P_exact, interpolation='nearest', cmap='rainbow', \n",
    "#                  extent=[x_star.min(), x_star.max(), y_star.min(), y_star.max()], \n",
    "#                  origin='lower', aspect='auto')\n",
    "\n",
    "plt.imshow(P_exact, cmap='rainbow', \n",
    "                  extent=[x_star.min(), x_star.max(), y_star.min(), y_star.max()], \n",
    "                  origin='lower', aspect='auto')\n",
    "plt.colorbar()"
   ]
  },
  {
   "cell_type": "code",
   "execution_count": 29,
   "id": "eb55c912-806d-40df-828f-8cf07bb68a30",
   "metadata": {},
   "outputs": [
    {
     "data": {
      "text/plain": [
       "array([[153.79489136, 153.79489136, 153.79489136, ..., 153.79489136,\n",
       "        153.79489136, 153.79489136],\n",
       "       [153.79489136, 153.79489136, 153.79489136, ..., 153.79489136,\n",
       "        153.79489136, 153.79489136],\n",
       "       [153.79489136, 153.79489136, 153.79489136, ..., 153.79489136,\n",
       "        153.79489136, 153.79489136],\n",
       "       ...,\n",
       "       [153.79489136, 153.79489136, 153.79489136, ..., 153.79489136,\n",
       "        153.79489136, 153.79489136],\n",
       "       [153.79489136, 153.79489136, 153.79489136, ..., 153.79489136,\n",
       "        153.79489136, 153.79489136],\n",
       "       [153.79489136, 153.79489136, 153.79489136, ..., 153.79489136,\n",
       "        153.79489136, 153.79489136]])"
      ]
     },
     "execution_count": 29,
     "metadata": {},
     "output_type": "execute_result"
    }
   ],
   "source": [
    "P_exact"
   ]
  },
  {
   "cell_type": "code",
   "execution_count": null,
   "id": "9962aac5-dab4-4ff4-b48f-c8f190f949f6",
   "metadata": {},
   "outputs": [],
   "source": []
  }
 ],
 "metadata": {
  "kernelspec": {
   "display_name": "Python 3 (ipykernel)",
   "language": "python",
   "name": "python3"
  },
  "language_info": {
   "codemirror_mode": {
    "name": "ipython",
    "version": 3
   },
   "file_extension": ".py",
   "mimetype": "text/x-python",
   "name": "python",
   "nbconvert_exporter": "python",
   "pygments_lexer": "ipython3",
   "version": "3.8.12"
  }
 },
 "nbformat": 4,
 "nbformat_minor": 5
}
